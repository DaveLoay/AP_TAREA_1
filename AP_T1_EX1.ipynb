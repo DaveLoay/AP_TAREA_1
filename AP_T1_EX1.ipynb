{
  "nbformat": 4,
  "nbformat_minor": 0,
  "metadata": {
    "colab": {
      "provenance": [],
      "authorship_tag": "ABX9TyNU5h/NKeQYKLGmPCOXPeUg",
      "include_colab_link": true
    },
    "kernelspec": {
      "name": "python3",
      "display_name": "Python 3"
    },
    "language_info": {
      "name": "python"
    }
  },
  "cells": [
    {
      "cell_type": "markdown",
      "metadata": {
        "id": "view-in-github",
        "colab_type": "text"
      },
      "source": [
        "<a href=\"https://colab.research.google.com/github/DaveLoay/AP_TAREA_1/blob/main/AP_T1_EX1.ipynb\" target=\"_parent\"><img src=\"https://colab.research.google.com/assets/colab-badge.svg\" alt=\"Open In Colab\"/></a>"
      ]
    },
    {
      "cell_type": "markdown",
      "source": [
        "\n",
        "#Ex.1\n",
        "#Red de unidades de umbral lineal\n",
        "\n",
        "Programa y evalúa una red de neuronas con funciones de activación escalón unitario que aproxime la operación XNOR (⊙) dada por\n",
        "\n",
        "| $x_1$ | $x_2$ | $y$\n",
        "| ------------- |:-------------:| -----:|\n",
        "|0 |0 |1|\n",
        "|0 |1 |0|\n",
        "|1 |0 |0|\n",
        "|1 |1 |1|"
      ],
      "metadata": {
        "id": "i_YMUp2GVRsR"
      }
    },
    {
      "cell_type": "code",
      "execution_count": null,
      "metadata": {
        "id": "pQ_6pXiANzqf"
      },
      "outputs": [],
      "source": [
        "import numpy as np\n",
        "import matplotlib.pyplot as plt"
      ]
    },
    {
      "cell_type": "markdown",
      "source": [
        "Definiendo la función de activación del escalón unitario"
      ],
      "metadata": {
        "id": "mZG65mAXWAHp"
      }
    },
    {
      "cell_type": "code",
      "source": [
        "def unit_step(Z):\n",
        "  return np.heaviside(Z,1)"
      ],
      "metadata": {
        "id": "GG5JBLjqOFzT"
      },
      "execution_count": null,
      "outputs": []
    },
    {
      "cell_type": "markdown",
      "source": [
        "Podemos ver la operación XNOR como una tarea de clasificación binaria a partir de 2 entradas. Por lo tanto, usaremos la función de pérdida de entropía cruzada binaria:\n",
        "\n",
        "$$\n",
        "ECB(\\mathbf{y}, \\mathbf{\\hat{y}})  = -\\sum_{i=1}^N \\left[ y^{(i)} \\log \\hat{y}^{(i)} + (1 - y^{(i)}) \\log (1 - \\hat{y}^{(i)}) \\right]\n",
        "$$"
      ],
      "metadata": {
        "id": "8raEI6OgYRzd"
      }
    },
    {
      "cell_type": "code",
      "source": [
        "def entropia_cruzada_binaria(y, p):\n",
        "    p[p == 0] = np.nextafter(0., 1.)\n",
        "    p[p == 1] = np.nextafter(1., 0.)\n",
        "    return -(np.log(p[y == 1]).sum() + np.log(1 - p[y == 0]).sum())"
      ],
      "metadata": {
        "id": "sfQBNqlPUY-u"
      },
      "execution_count": null,
      "outputs": []
    },
    {
      "cell_type": "markdown",
      "source": [
        "Asimismo, calcularemos la exactitud para medir el rendimiento del modelo aprendido por la red neuronal densa:\n",
        "\n",
        "$$\n",
        "exactitud = \\frac{correctos}{total}\n",
        "$$"
      ],
      "metadata": {
        "id": "wWwFmLWvYlYN"
      }
    },
    {
      "cell_type": "code",
      "source": [
        "def exactitud(y, y_predicha):\n",
        "    return (y == y_predicha).mean() * 100"
      ],
      "metadata": {
        "id": "NFQ-FLuvYb8w"
      },
      "execution_count": null,
      "outputs": []
    },
    {
      "cell_type": "markdown",
      "source": [
        "Ahora, definimos la función que propaga hacia adelante una entrada $\\mathbf{x}^{i}$ (forward propagation). Como la red está compuesta de 2 capas densas (1 oculta y 1 de salida), tenemos 2 matrices de pesos con sus correspondientes vectores de sesgos $\\{\\mathbf{W}^{\\{1\\}}, \\mathbf{b}^{\\{1\\}}\\}$ y $\\{\\mathbf{W}^{\\{2\\}}, \\mathbf{b}^{\\{2\\}}\\}$ de la capa oculta y la capa de salida respectivamente. Así, podemos llevar a cabo la propagación hacia adelante en esta red de la siguiente manera:\n",
        "\n",
        "$$\n",
        "\t\\begin{split}\n",
        "\t\t\t\t\\mathbf{a}^{\\{1\\}} & =  \\mathbf{x}^{(i)} \\\\\n",
        "\t\t\t\t\\mathbf{z}^{\\{2\\}} & =  \\mathbf{W}^{\\{1\\}} \\cdot \\mathbf{a}^{\\{1\\}} + \\mathbf{b}^{\\{1\\}}\\\\\n",
        "\t\t\t\t\\mathbf{a}^{\\{2\\}} & =  \\sigma(\\mathbf{z}^{\\{2\\}}) \\\\\n",
        "\t\t\t\t\\mathbf{z}^{\\{3\\}} & =  \\mathbf{W}^{\\{2\\}} \\cdot \\mathbf{a}^{\\{2\\}}  + \\mathbf{b}^{\\{2\\}}\\\\\n",
        "\t\t\t\t\\mathbf{a}^{\\{3\\}} & =  \\sigma(\\mathbf{z}^{\\{3\\}})\\\\\n",
        "\t\t\t\t\\hat{y}^{(i)} & =  \\mathbf{a}^{\\{3\\}}\n",
        "\t\t\t\\end{split}\n",
        "      $$"
      ],
      "metadata": {
        "id": "11-Pb4axbgBM"
      }
    },
    {
      "cell_type": "code",
      "source": [
        "def forward_prop(x, W1, b1, W2, b2):\n",
        "    z2 = np.dot(W1.T, x[:, np.newaxis]) + b1\n",
        "    a2 = unit_step(z2)\n",
        "    z3 = np.dot(W2.T, a2) + b2\n",
        "    y_hat = unit_step(z3)\n",
        "    return z2, a2, z3, y_hat"
      ],
      "metadata": {
        "id": "NtR0tx2EYoeW"
      },
      "execution_count": null,
      "outputs": []
    },
    {
      "cell_type": "markdown",
      "source": [
        "Finalmente, definimos la función para entrenar nuestra red neuronal usando descenso por gradiente. Para calcular el gradiente de la función de pérdida respecto a los pesos y sesgos en cada capa empleamos el algoritmo de retropropagación."
      ],
      "metadata": {
        "id": "fQYqHd_WdAjZ"
      }
    },
    {
      "cell_type": "code",
      "source": [
        "def retropropagacion(X, y, alpha = 0.01, n_epocas = 100, n_ocultas = 10):\n",
        "    n_ejemplos = X.shape[0]\n",
        "    n_entradas = X.shape[1]\n",
        "        \n",
        "    # Inicialización de las matrices de pesos W y V\n",
        "    W1 = np.sqrt(1.0 / n_entradas) * np.random.randn(n_entradas, n_ocultas)\n",
        "    b1 = np.zeros((n_ocultas, 1))\n",
        "    \n",
        "    W2 = np.sqrt(1.0 / n_ocultas) * np.random.randn(n_ocultas, 1)\n",
        "    b2 = np.zeros((1, 1))\n",
        "    \n",
        "    perdidas = np.zeros((n_epocas))\n",
        "    exactitudes = np.zeros((n_epocas))\n",
        "    y_predicha = np.zeros((y.shape))\n",
        "    for i in range(n_epocas):\n",
        "        for j in range(n_ejemplos):\n",
        "            z2, a2, z3, y_hat = forward_prop(X[j], W1, b1, W2, b2)\n",
        "\n",
        "            # cálculo de gradientes para W2 y b2 por retropropagación\n",
        "            dz3 = y_hat - y[j]\n",
        "            dW2 = np.outer(a2, dz3)\n",
        "            db2 = dz3\n",
        "\n",
        "            # cálculo de gradientes para W1 y b1 por retropropagación\n",
        "            dz2 = np.dot(W2, dz3) * (1)   ## ********** Aquí va la derivada de la función de activación\n",
        "            dW1 = np.outer(X[j], dz2)\n",
        "            db1 = dz2\n",
        "            \n",
        "            ####################################\n",
        "            # IMPORTANTE \n",
        "            # la actualización de los parámetros\n",
        "            # debe hacerse de forma simultánea\n",
        "            W2 = W2 - alpha * dW2\n",
        "            b2 = b2 - alpha * db2\n",
        "            W1 = W1 - alpha * dW1\n",
        "            b1 = b1 - alpha * db1\n",
        "\n",
        "            y_predicha[j] = y_hat\n",
        "            \n",
        "        # calcula la pérdida en la época\n",
        "        perdidas[i] = entropia_cruzada_binaria(y, y_predicha)\n",
        "        exactitudes[i] = exactitud(y, np.round(y_predicha))\n",
        "        print('Epoch {0}: Pérdida = {1} Exactitud = {2}'.format(i, \n",
        "                                                              perdidas[i], \n",
        "                                                              exactitudes[i]))\n",
        "\n",
        "    return W1, W2, perdidas, exactitudes"
      ],
      "metadata": {
        "id": "oK97FRE3b8Kk"
      },
      "execution_count": null,
      "outputs": []
    },
    {
      "cell_type": "markdown",
      "source": [
        "Para probar nuestra red, generamos los ejemplos correspondientes a la operación \n",
        "XNOR.\n"
      ],
      "metadata": {
        "id": "O7Jtw8rKfoGh"
      }
    },
    {
      "cell_type": "code",
      "source": [
        "# ejemplo (XNOR)\n",
        "X = np.array([[0, 0], [0, 1], [1, 0], [1, 1]])\n",
        "y = np.array([[1, 0, 0, 1]]).T"
      ],
      "metadata": {
        "id": "XQeZGY7kfrVL"
      },
      "execution_count": null,
      "outputs": []
    },
    {
      "cell_type": "markdown",
      "source": [
        "#Finalmente, entrenamos nuestra red. \n",
        "\\\\\n",
        "En esta sección se jugó con los hiper parámetros de la red, de tal foram que se logró entrenar a la red en 15 épocas con una tasa de aprendizaje $α$ = 0.05 y una capa oculta de 10 neuronas."
      ],
      "metadata": {
        "id": "KORFkIjGholR"
      }
    },
    {
      "cell_type": "code",
      "source": [
        "np.random.seed(0)\n",
        "W1, W2, perdidas, exactitudes = retropropagacion(X, \n",
        "                                                 y, \n",
        "                                                 alpha = 0.05, \n",
        "                                                 n_epocas = 15,\n",
        "                                                 n_ocultas = 10)"
      ],
      "metadata": {
        "colab": {
          "base_uri": "https://localhost:8080/"
        },
        "id": "i0blnRIYfv_y",
        "outputId": "da2670e6-e3e5-4eab-e82f-2bc9a06a5109"
      },
      "execution_count": null,
      "outputs": [
        {
          "output_type": "stream",
          "name": "stdout",
          "text": [
            "Epoch 0: Pérdida = 817.9136730607354 Exactitud = 25.0\n",
            "Epoch 1: Pérdida = 781.1768724910584 Exactitud = 50.0\n",
            "Epoch 2: Pérdida = 1525.6169444124396 Exactitud = 25.0\n",
            "Epoch 3: Pérdida = 781.1768724910584 Exactitud = 50.0\n",
            "Epoch 4: Pérdida = 36.7368005696771 Exactitud = 75.0\n",
            "Epoch 5: Pérdida = 744.4400719213812 Exactitud = 75.0\n",
            "Epoch 6: Pérdida = 2.220446049250313e-16 Exactitud = 100.0\n",
            "Epoch 7: Pérdida = 2.220446049250313e-16 Exactitud = 100.0\n",
            "Epoch 8: Pérdida = 2.220446049250313e-16 Exactitud = 100.0\n",
            "Epoch 9: Pérdida = 2.220446049250313e-16 Exactitud = 100.0\n",
            "Epoch 10: Pérdida = 2.220446049250313e-16 Exactitud = 100.0\n",
            "Epoch 11: Pérdida = 2.220446049250313e-16 Exactitud = 100.0\n",
            "Epoch 12: Pérdida = 2.220446049250313e-16 Exactitud = 100.0\n",
            "Epoch 13: Pérdida = 2.220446049250313e-16 Exactitud = 100.0\n",
            "Epoch 14: Pérdida = 2.220446049250313e-16 Exactitud = 100.0\n"
          ]
        }
      ]
    },
    {
      "cell_type": "markdown",
      "source": [
        "**Graficamos** el valor de la pérdida y la exactitud en cada época para ver el comportamiento de nuestra red durante el entrenamiento:"
      ],
      "metadata": {
        "id": "o3TZNdXMhp7m"
      }
    },
    {
      "cell_type": "code",
      "source": [
        "import matplotlib.pyplot as plt\n",
        "fig, (ax1, ax2, ax3) = plt.subplots(3, sharex=True, figsize= (10,10))\n",
        "ax1.plot(np.arange(perdidas.size), perdidas, label='ECB')\n",
        "ax1.plot(np.arange(exactitudes.size), exactitudes, label='Exactitud')\n",
        "ax1.legend()\n",
        "ax1.grid(True)\n",
        "ax2.plot(perdidas, label = 'ECB')\n",
        "ax2.grid(True)\n",
        "ax2.set_title('Pérdidas')\n",
        "ax3.plot(exactitudes, color = 'orange')\n",
        "ax3.grid(True)\n",
        "ax3.set_xlabel('Épocas')\n",
        "ax3.set_title('Exactitud')\n",
        "\n",
        "plt.show()"
      ],
      "metadata": {
        "colab": {
          "base_uri": "https://localhost:8080/",
          "height": 608
        },
        "id": "BtomzR_fg98J",
        "outputId": "e7c8b36d-a941-4885-b049-7aae0904591f"
      },
      "execution_count": null,
      "outputs": [
        {
          "output_type": "display_data",
          "data": {
            "text/plain": [
              "<Figure size 720x720 with 3 Axes>"
            ],
            "image/png": "[encoded data removed]"
          },
          "metadata": {
            "needs_background": "light"
          }
        }
      ]
    }
  ]
}