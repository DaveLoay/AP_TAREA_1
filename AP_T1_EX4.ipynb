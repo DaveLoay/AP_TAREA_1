{
  "cells": [
    {
      "cell_type": "markdown",
      "metadata": {
        "id": "view-in-github",
        "colab_type": "text"
      },
      "source": [
        "<a href=\"https://colab.research.google.com/github/DaveLoay/AP_TAREA_1/blob/main/AP_T1_EX4.ipynb\" target=\"_parent\"><img src=\"https://colab.research.google.com/assets/colab-badge.svg\" alt=\"Open In Colab\"/></a>"
      ]
    },
    {
      "cell_type": "code",
      "execution_count": null,
      "metadata": {
        "id": "AdqZOUPU6nUo"
      },
      "outputs": [],
      "source": [
        "import torch\n",
        "from torch import nn\n",
        "from torch.utils.data import DataLoader\n",
        "from torchvision import datasets\n",
        "from torchvision.transforms import ToTensor\n",
        "\n",
        "import matplotlib.pyplot as plt\n"
      ]
    },
    {
      "cell_type": "markdown",
      "source": [
        "# Descargando DataSet"
      ],
      "metadata": {
        "id": "QU-ecNT6Nj2S"
      }
    },
    {
      "cell_type": "code",
      "execution_count": null,
      "metadata": {
        "id": "H6GObNfa9l8o",
        "colab": {
          "base_uri": "https://localhost:8080/",
          "height": 443,
          "referenced_widgets": [
            "f2cd5e87703f41b189fcb0ae29c97048",
            "8b969d76f8bd470b935c37bb9d0101b3",
            "8b586329359343f3befd08ea03ea9f89",
            "22552074b28c41459e34eadf5408d339",
            "6f5fb3de7a2b4e3d9db49c3cee70e42e",
            "06e0dcc6d0b6443388bc35afa3cb4b37",
            "24062439677d4e9c9afd51d58afb10cf",
            "225deb6a308342cda83164fc8fb72912",
            "164420b9734f44f39e08276ef7199565",
            "ffe2d70425f047f4981d00ee8564befa",
            "1b3fb4c102b64d71a7f108e0b25850bf",
            "f8fc531b0a114db68f2b4d5e292fd567",
            "9a57a8da26c64d38992a1c49612ffa8d",
            "0670f1f79f6c4fa59dcef316773417da",
            "14c64f717bd249fea85519726fab4b50",
            "c7166e0e53204228b004e5eca84d8364",
            "a24cd7f42bc84130a25315545e7fcfdf",
            "a4a0dd1660644989a1fc53543a48fb66",
            "8419188b0e8244afbc1d4d564462bb47",
            "34f80655e6e649eebb0f705ae03ae882",
            "ba6a4f08abfd439a9fe159007603036d",
            "494f862049294e9ea6b528b34b182869",
            "fa250be08c89484589e077b23343460b",
            "a359df919cd4486aabc33183e865b218",
            "12b3d4cd5f70476098d74eaca4981107",
            "434b5282f46e40b7b28beb0158ed87fc",
            "4d2c4c144aee4c6a9e0a7952b82dd88d",
            "f6390d2b21524448bfccad159802f5b1",
            "5f54209b68134790889717afb0522713",
            "8b5a8044e39c42679b49eac13b31305b",
            "bdea44965832424d9ef29cd3449424d8",
            "63d484c77eb64c1eb6653c54fce23da2",
            "cc9b1f66d04a49cca443ab8e13a506f3",
            "9e214a36213c422d88d6926565b38ac1",
            "a0dcb5c9b16c462c8de2b68c1fdea229",
            "3c33bee50a5c49bc9eaaed6e9966c9c4",
            "a0a2d51dc9704d8da84f725082ecc384",
            "8f8276b96b1d4ddbac6ff875c0cf6340",
            "94f7ad69c31d4b00880120308a7b3e02",
            "9eb6ce6e4f8e482f89fc3d1a3a088199",
            "810d22bb680c4c3f9d2b1fc84d31223a",
            "0e94b4799a2d449e9596499e60c2c3e2",
            "bb6f44205eaf4dccac622cacca17bbfa",
            "0daa9b37096a491ba93f45fd14f08b07"
          ]
        },
        "outputId": "2c36369c-32b5-43fe-d365-b0690805ad1e"
      },
      "outputs": [
        {
          "output_type": "stream",
          "name": "stdout",
          "text": [
            "Downloading http://fashion-mnist.s3-website.eu-central-1.amazonaws.com/train-images-idx3-ubyte.gz\n",
            "Downloading http://fashion-mnist.s3-website.eu-central-1.amazonaws.com/train-images-idx3-ubyte.gz to data/FashionMNIST/raw/train-images-idx3-ubyte.gz\n"
          ]
        },
        {
          "output_type": "display_data",
          "data": {
            "text/plain": [
              "  0%|          | 0/26421880 [00:00<?, ?it/s]"
            ],
            "application/vnd.jupyter.widget-view+json": {
              "version_major": 2,
              "version_minor": 0,
              "model_id": "f2cd5e87703f41b189fcb0ae29c97048"
            }
          },
          "metadata": {}
        },
        {
          "output_type": "stream",
          "name": "stdout",
          "text": [
            "Extracting data/FashionMNIST/raw/train-images-idx3-ubyte.gz to data/FashionMNIST/raw\n",
            "\n",
            "Downloading http://fashion-mnist.s3-website.eu-central-1.amazonaws.com/train-labels-idx1-ubyte.gz\n",
            "Downloading http://fashion-mnist.s3-website.eu-central-1.amazonaws.com/train-labels-idx1-ubyte.gz to data/FashionMNIST/raw/train-labels-idx1-ubyte.gz\n"
          ]
        },
        {
          "output_type": "display_data",
          "data": {
            "text/plain": [
              "  0%|          | 0/29515 [00:00<?, ?it/s]"
            ],
            "application/vnd.jupyter.widget-view+json": {
              "version_major": 2,
              "version_minor": 0,
              "model_id": "f8fc531b0a114db68f2b4d5e292fd567"
            }
          },
          "metadata": {}
        },
        {
          "output_type": "stream",
          "name": "stdout",
          "text": [
            "Extracting data/FashionMNIST/raw/train-labels-idx1-ubyte.gz to data/FashionMNIST/raw\n",
            "\n",
            "Downloading http://fashion-mnist.s3-website.eu-central-1.amazonaws.com/t10k-images-idx3-ubyte.gz\n",
            "Downloading http://fashion-mnist.s3-website.eu-central-1.amazonaws.com/t10k-images-idx3-ubyte.gz to data/FashionMNIST/raw/t10k-images-idx3-ubyte.gz\n"
          ]
        },
        {
          "output_type": "display_data",
          "data": {
            "text/plain": [
              "  0%|          | 0/4422102 [00:00<?, ?it/s]"
            ],
            "application/vnd.jupyter.widget-view+json": {
              "version_major": 2,
              "version_minor": 0,
              "model_id": "fa250be08c89484589e077b23343460b"
            }
          },
          "metadata": {}
        },
        {
          "output_type": "stream",
          "name": "stdout",
          "text": [
            "Extracting data/FashionMNIST/raw/t10k-images-idx3-ubyte.gz to data/FashionMNIST/raw\n",
            "\n",
            "Downloading http://fashion-mnist.s3-website.eu-central-1.amazonaws.com/t10k-labels-idx1-ubyte.gz\n",
            "Downloading http://fashion-mnist.s3-website.eu-central-1.amazonaws.com/t10k-labels-idx1-ubyte.gz to data/FashionMNIST/raw/t10k-labels-idx1-ubyte.gz\n"
          ]
        },
        {
          "output_type": "display_data",
          "data": {
            "text/plain": [
              "  0%|          | 0/5148 [00:00<?, ?it/s]"
            ],
            "application/vnd.jupyter.widget-view+json": {
              "version_major": 2,
              "version_minor": 0,
              "model_id": "9e214a36213c422d88d6926565b38ac1"
            }
          },
          "metadata": {}
        },
        {
          "output_type": "stream",
          "name": "stdout",
          "text": [
            "Extracting data/FashionMNIST/raw/t10k-labels-idx1-ubyte.gz to data/FashionMNIST/raw\n",
            "\n"
          ]
        }
      ],
      "source": [
        "# Download training data from open datasets.\n",
        "training_data = datasets.FashionMNIST(\n",
        "    root=\"data\",\n",
        "    train=True,\n",
        "    download=True,\n",
        "    transform=ToTensor(),\n",
        ")\n",
        "\n",
        "# Download test data from open datasets.\n",
        "test_data = datasets.FashionMNIST(\n",
        "    root=\"data\",\n",
        "    train=False,\n",
        "    download=True,\n",
        "    transform=ToTensor(),\n",
        ")"
      ]
    },
    {
      "cell_type": "markdown",
      "source": [
        "# Creando los DataLoaders para entrenamiento y validación"
      ],
      "metadata": {
        "id": "iSGHJPkoN6yN"
      }
    },
    {
      "cell_type": "code",
      "source": [
        "labels_map = {\n",
        "    0: \"T-Shirt\",\n",
        "    1: \"Trouser\",\n",
        "    2: \"Pullover\",\n",
        "    3: \"Dress\",\n",
        "    4: \"Coat\",\n",
        "    5: \"Sandal\",\n",
        "    6: \"Shirt\",\n",
        "    7: \"Sneaker\",\n",
        "    8: \"Bag\",\n",
        "    9: \"Ankle Boot\",\n",
        "}\n",
        "figure = plt.figure(figsize=(8, 8))\n",
        "cols, rows = 3, 3\n",
        "for i in range(1, cols * rows + 1):\n",
        "    sample_idx = torch.randint(len(training_data), size=(1,)).item()\n",
        "    img, label = training_data[sample_idx]\n",
        "    figure.add_subplot(rows, cols, i)\n",
        "    plt.title(labels_map[label])\n",
        "    plt.axis(\"off\")\n",
        "    plt.imshow(img.squeeze(), cmap=\"gray\")\n",
        "plt.show()"
      ],
      "metadata": {
        "colab": {
          "base_uri": "https://localhost:8080/",
          "height": 482
        },
        "id": "ARZ1yS8ETLij",
        "outputId": "3801d5f2-a671-437f-ff9d-579cda227bc1"
      },
      "execution_count": null,
      "outputs": [
        {
          "output_type": "display_data",
          "data": {
            "text/plain": [
              "<Figure size 576x576 with 9 Axes>"
            ],
            "image/png": "[encoded data removed]"
          },
          "metadata": {
            "needs_background": "light"
          }
        }
      ]
    },
    {
      "cell_type": "code",
      "source": [
        "batch_size = 64\n",
        "\n",
        "# Create data loaders.\n",
        "train_dataloader = DataLoader(training_data, batch_size=batch_size)\n",
        "test_dataloader = DataLoader(test_data, batch_size=batch_size)"
      ],
      "metadata": {
        "id": "Ri8a9A91TYX0"
      },
      "execution_count": null,
      "outputs": []
    },
    {
      "cell_type": "markdown",
      "source": [
        "# Creando el modelos"
      ],
      "metadata": {
        "id": "HOwfrqzITjsn"
      }
    },
    {
      "cell_type": "markdown",
      "source": [
        "Revisando el dispositivo donde corre"
      ],
      "metadata": {
        "id": "Jb5p23H6TtX5"
      }
    },
    {
      "cell_type": "code",
      "source": [
        "# Get cpu or gpu device for training.\n",
        "device = \"cuda\" if torch.cuda.is_available() else \"cpu\"\n",
        "print(f\"Using {device} device\")"
      ],
      "metadata": {
        "colab": {
          "base_uri": "https://localhost:8080/"
        },
        "id": "l8b7iuBtTtEm",
        "outputId": "19637b74-4fcc-45d0-d1a0-fd29d556045b"
      },
      "execution_count": null,
      "outputs": [
        {
          "output_type": "stream",
          "name": "stdout",
          "text": [
            "Using cuda device\n"
          ]
        }
      ]
    },
    {
      "cell_type": "markdown",
      "source": [
        "# Modelo 1"
      ],
      "metadata": {
        "id": "3pGEAD4pZxT3"
      }
    },
    {
      "cell_type": "code",
      "source": [
        "# Define model\n",
        "class NeuralNetwork(nn.Module):\n",
        "    def __init__(self):\n",
        "        super(NeuralNetwork, self).__init__()\n",
        "        self.flatten = nn.Flatten()\n",
        "        self.linear_relu_stack = nn.Sequential(\n",
        "            nn.Linear(28*28, 128),\n",
        "            nn.ReLU(),\n",
        "            nn.Linear(128,10),\n",
        "            nn.ReLU(),\n",
        "            nn.Linear(10, 10)\n",
        "        )\n",
        "\n",
        "    def forward(self, x):\n",
        "        x = self.flatten(x)\n",
        "        logits = self.linear_relu_stack(x)\n",
        "        return logits\n",
        "\n",
        "model = NeuralNetwork().to(device)\n",
        "print(model)"
      ],
      "metadata": {
        "colab": {
          "base_uri": "https://localhost:8080/"
        },
        "id": "UrwYiu0HTaJr",
        "outputId": "3d9d483f-7247-4cbf-f35c-9e3021a41dd5"
      },
      "execution_count": null,
      "outputs": [
        {
          "output_type": "stream",
          "name": "stdout",
          "text": [
            "NeuralNetwork(\n",
            "  (flatten): Flatten(start_dim=1, end_dim=-1)\n",
            "  (linear_relu_stack): Sequential(\n",
            "    (0): Linear(in_features=784, out_features=128, bias=True)\n",
            "    (1): ReLU()\n",
            "    (2): Linear(in_features=128, out_features=10, bias=True)\n",
            "    (3): ReLU()\n",
            "    (4): Linear(in_features=10, out_features=10, bias=True)\n",
            "  )\n",
            ")\n"
          ]
        }
      ]
    },
    {
      "cell_type": "markdown",
      "source": [
        "# Modelo 2"
      ],
      "metadata": {
        "id": "uNA_cO-pa5P1"
      }
    },
    {
      "cell_type": "code",
      "source": [
        "# Define model\n",
        "class NeuralNetwork(nn.Module):\n",
        "    def __init__(self):\n",
        "        super(NeuralNetwork, self).__init__()\n",
        "        self.flatten = nn.Flatten()\n",
        "        self.linear_relu_stack = nn.Sequential(\n",
        "            nn.Linear(28*28, 512),\n",
        "            nn.ReLU(),\n",
        "            nn.Linear(512,100),\n",
        "            nn.ReLU(),\n",
        "            nn.Linear(100, 10)\n",
        "        )\n",
        "\n",
        "    def forward(self, x):\n",
        "        x = self.flatten(x)\n",
        "        logits = self.linear_relu_stack(x)\n",
        "        return logits\n",
        "\n",
        "model_2 = NeuralNetwork().to(device)\n",
        "print(model_2)"
      ],
      "metadata": {
        "colab": {
          "base_uri": "https://localhost:8080/"
        },
        "id": "rQW8q1lga_A5",
        "outputId": "ccda9b68-950b-4209-e3b7-52cfd559f28d"
      },
      "execution_count": null,
      "outputs": [
        {
          "output_type": "stream",
          "name": "stdout",
          "text": [
            "NeuralNetwork(\n",
            "  (flatten): Flatten(start_dim=1, end_dim=-1)\n",
            "  (linear_relu_stack): Sequential(\n",
            "    (0): Linear(in_features=784, out_features=512, bias=True)\n",
            "    (1): ReLU()\n",
            "    (2): Linear(in_features=512, out_features=100, bias=True)\n",
            "    (3): ReLU()\n",
            "    (4): Linear(in_features=100, out_features=10, bias=True)\n",
            "  )\n",
            ")\n"
          ]
        }
      ]
    },
    {
      "cell_type": "markdown",
      "source": [
        "# Model 3"
      ],
      "metadata": {
        "id": "W_ZS60QXg4jB"
      }
    },
    {
      "cell_type": "code",
      "source": [
        "# Define model\n",
        "class NeuralNetwork(nn.Module):\n",
        "    def __init__(self):\n",
        "        super(NeuralNetwork, self).__init__()\n",
        "        self.flatten = nn.Flatten()\n",
        "        self.linear_relu_stack = nn.Sequential(\n",
        "            nn.Linear(28*28, 512),\n",
        "            nn.Sigmoid(),\n",
        "            nn.Linear(512,100),\n",
        "            nn.Sigmoid(),\n",
        "            nn.Linear(100, 10)\n",
        "        )\n",
        "\n",
        "    def forward(self, x):\n",
        "        x = self.flatten(x)\n",
        "        logits = self.linear_relu_stack(x)\n",
        "        return logits\n",
        "\n",
        "model_3 = NeuralNetwork().to(device)\n",
        "print(model_3)"
      ],
      "metadata": {
        "colab": {
          "base_uri": "https://localhost:8080/"
        },
        "id": "VfFQIPYEg9Kj",
        "outputId": "905ce3cc-d6e6-45a1-f502-0bdc8d76c5e4"
      },
      "execution_count": null,
      "outputs": [
        {
          "output_type": "stream",
          "name": "stdout",
          "text": [
            "NeuralNetwork(\n",
            "  (flatten): Flatten(start_dim=1, end_dim=-1)\n",
            "  (linear_relu_stack): Sequential(\n",
            "    (0): Linear(in_features=784, out_features=512, bias=True)\n",
            "    (1): Sigmoid()\n",
            "    (2): Linear(in_features=512, out_features=100, bias=True)\n",
            "    (3): Sigmoid()\n",
            "    (4): Linear(in_features=100, out_features=10, bias=True)\n",
            "  )\n",
            ")\n"
          ]
        }
      ]
    },
    {
      "cell_type": "markdown",
      "source": [
        "#Modelo 4"
      ],
      "metadata": {
        "id": "op7EgaH0jJdb"
      }
    },
    {
      "cell_type": "code",
      "source": [
        "# Define model\n",
        "class NeuralNetwork(nn.Module):\n",
        "    def __init__(self):\n",
        "        super(NeuralNetwork, self).__init__()\n",
        "        self.flatten = nn.Flatten()\n",
        "        self.linear_relu_stack = nn.Sequential(\n",
        "            # nn.Linear(28*28, 512),\n",
        "            # nn.Sigmoid(),\n",
        "            nn.Linear(28*28,100),\n",
        "            nn.ReLU(),\n",
        "            nn.Linear(100, 10)\n",
        "        )\n",
        "\n",
        "    def forward(self, x):\n",
        "        x = self.flatten(x)\n",
        "        logits = self.linear_relu_stack(x)\n",
        "        return logits\n",
        "\n",
        "model_4 = NeuralNetwork().to(device)\n",
        "print(model_4)"
      ],
      "metadata": {
        "colab": {
          "base_uri": "https://localhost:8080/"
        },
        "id": "rBxa7MMOjOJl",
        "outputId": "ea9f60fa-848b-4e02-e26b-4ab4cc90f1a3"
      },
      "execution_count": null,
      "outputs": [
        {
          "output_type": "stream",
          "name": "stdout",
          "text": [
            "NeuralNetwork(\n",
            "  (flatten): Flatten(start_dim=1, end_dim=-1)\n",
            "  (linear_relu_stack): Sequential(\n",
            "    (0): Linear(in_features=784, out_features=100, bias=True)\n",
            "    (1): ReLU()\n",
            "    (2): Linear(in_features=100, out_features=10, bias=True)\n",
            "  )\n",
            ")\n"
          ]
        }
      ]
    },
    {
      "cell_type": "markdown",
      "source": [
        "# Modelo 5"
      ],
      "metadata": {
        "id": "G1B9SN6D2jM-"
      }
    },
    {
      "cell_type": "code",
      "source": [
        "# Define model\n",
        "class NeuralNetwork(nn.Module):\n",
        "    def __init__(self):\n",
        "        super(NeuralNetwork, self).__init__()\n",
        "        self.flatten = nn.Flatten()\n",
        "        self.linear_relu_stack = nn.Sequential(\n",
        "            nn.Linear(28*28, 512),\n",
        "            nn.ReLU(),\n",
        "            nn.Linear(512,256),\n",
        "            nn.ReLU(),\n",
        "            nn.Linear(256,128),\n",
        "            nn.ReLU(),\n",
        "            nn.Linear(128, 10)\n",
        "        )\n",
        "\n",
        "    def forward(self, x):\n",
        "        x = self.flatten(x)\n",
        "        logits = self.linear_relu_stack(x)\n",
        "        return logits\n",
        "\n",
        "model_5 = NeuralNetwork().to(device)\n",
        "print(model_5)"
      ],
      "metadata": {
        "colab": {
          "base_uri": "https://localhost:8080/"
        },
        "id": "w3ECEQ2T2mxL",
        "outputId": "52b39247-f371-4d62-d0b7-aef15082b548"
      },
      "execution_count": null,
      "outputs": [
        {
          "output_type": "stream",
          "name": "stdout",
          "text": [
            "NeuralNetwork(\n",
            "  (flatten): Flatten(start_dim=1, end_dim=-1)\n",
            "  (linear_relu_stack): Sequential(\n",
            "    (0): Linear(in_features=784, out_features=512, bias=True)\n",
            "    (1): ReLU()\n",
            "    (2): Linear(in_features=512, out_features=256, bias=True)\n",
            "    (3): ReLU()\n",
            "    (4): Linear(in_features=256, out_features=128, bias=True)\n",
            "    (5): ReLU()\n",
            "    (6): Linear(in_features=128, out_features=10, bias=True)\n",
            "  )\n",
            ")\n"
          ]
        }
      ]
    },
    {
      "cell_type": "markdown",
      "source": [
        "# Definiendo los optimizadores"
      ],
      "metadata": {
        "id": "jFd2rDFGT-8R"
      }
    },
    {
      "cell_type": "markdown",
      "source": [
        "OPT. Modelo 1"
      ],
      "metadata": {
        "id": "9Sggr56ocQjW"
      }
    },
    {
      "cell_type": "code",
      "source": [
        "learning_rate = 0.3\n",
        "\n",
        "loss_fn = nn.CrossEntropyLoss() #Función de pérdida\n",
        "optimizer = torch.optim.SGD(model.parameters(), lr = learning_rate)  # Descenso por gradiente estocástico"
      ],
      "metadata": {
        "id": "BbVT_FvST-i4"
      },
      "execution_count": null,
      "outputs": []
    },
    {
      "cell_type": "markdown",
      "source": [
        "OPT. Modelo 2"
      ],
      "metadata": {
        "id": "L9eO-tS0cVeM"
      }
    },
    {
      "cell_type": "code",
      "source": [
        "learning_rate_2 = 0.35\n",
        "\n",
        "loss_fn = nn.CrossEntropyLoss() #Función de pérdida\n",
        "optimizer_2 = torch.optim.SGD(model_2.parameters(), lr = learning_rate_2)  # Descenso por gradiente estocástico"
      ],
      "metadata": {
        "id": "Qd9IdFNLcYwC"
      },
      "execution_count": null,
      "outputs": []
    },
    {
      "cell_type": "markdown",
      "source": [
        "OPT. Modelo 3"
      ],
      "metadata": {
        "id": "MtEVDdTXhLdr"
      }
    },
    {
      "cell_type": "code",
      "source": [
        "learning_rate_3 = 0.4\n",
        "\n",
        "loss_fn = nn.CrossEntropyLoss() #Función de pérdida\n",
        "optimizer_3 = torch.optim.SGD(model_3.parameters(), lr = learning_rate_3)  # Descenso por gradiente estocástico"
      ],
      "metadata": {
        "id": "yOGK5vHchPCx"
      },
      "execution_count": null,
      "outputs": []
    },
    {
      "cell_type": "markdown",
      "source": [
        "OPT. Modelo 4"
      ],
      "metadata": {
        "id": "kowZ182njdjH"
      }
    },
    {
      "cell_type": "code",
      "source": [
        "learning_rate_4 = 0.7\n",
        "\n",
        "loss_fn = nn.CrossEntropyLoss() #Función de pérdida\n",
        "optimizer_4 = torch.optim.SGD(model_4.parameters(), lr = learning_rate_4)  # Descenso por gradiente estocástico"
      ],
      "metadata": {
        "id": "azBGT23xjiO_"
      },
      "execution_count": null,
      "outputs": []
    },
    {
      "cell_type": "markdown",
      "source": [
        "OPT. Modelo 5"
      ],
      "metadata": {
        "id": "EP0ick-127oL"
      }
    },
    {
      "cell_type": "code",
      "source": [
        "learning_rate_5 = 0.05\n",
        "\n",
        "loss_fn = nn.CrossEntropyLoss() #Función de pérdida\n",
        "optimizer_5 = torch.optim.SGD(model_5.parameters(), lr = learning_rate_5)  # Descenso por gradiente estocástico"
      ],
      "metadata": {
        "id": "X1KC0oq02_C5"
      },
      "execution_count": null,
      "outputs": []
    },
    {
      "cell_type": "markdown",
      "source": [
        "# Función de entrenamiento"
      ],
      "metadata": {
        "id": "1la1mXPRUZtg"
      }
    },
    {
      "cell_type": "code",
      "source": [
        "def train(dataloader, model, loss_fn, optimizer):\n",
        "    size = len(dataloader.dataset)\n",
        "    model.train()\n",
        "    for batch, (X, y) in enumerate(dataloader):\n",
        "        X, y = X.to(device), y.to(device)\n",
        "\n",
        "        # Compute prediction error\n",
        "        pred = model(X)\n",
        "        loss = loss_fn(pred, y)\n",
        "\n",
        "        # Backpropagation\n",
        "        optimizer.zero_grad()\n",
        "        loss.backward()\n",
        "        optimizer.step()\n",
        "\n",
        "        if batch % 100 == 0:\n",
        "            loss, current = loss.item(), batch * len(X)\n",
        "            print(f\"loss: {loss:>7f}  [{current:>5d}/{size:>5d}]\")"
      ],
      "metadata": {
        "id": "L9Oo33RcUPh6"
      },
      "execution_count": null,
      "outputs": []
    },
    {
      "cell_type": "markdown",
      "source": [
        "# Función de prueba"
      ],
      "metadata": {
        "id": "FCs4Y08zUl2_"
      }
    },
    {
      "cell_type": "code",
      "source": [
        "def test(dataloader, model, loss_fn):\n",
        "    size = len(dataloader.dataset)\n",
        "    num_batches = len(dataloader)\n",
        "    model.eval()\n",
        "    test_loss, correct = 0, 0\n",
        "    with torch.no_grad():\n",
        "        for X, y in dataloader:\n",
        "            X, y = X.to(device), y.to(device)\n",
        "            pred = model(X)\n",
        "            test_loss += loss_fn(pred, y).item()\n",
        "            correct += (pred.argmax(1) == y).type(torch.float).sum().item()\n",
        "    test_loss /= num_batches\n",
        "    correct /= size\n",
        "    print(f\"Test Error: \\n Accuracy: {(100*correct):>0.1f}%, Avg loss: {test_loss:>8f} \\n\")"
      ],
      "metadata": {
        "id": "lUffbdgKUnp2"
      },
      "execution_count": null,
      "outputs": []
    },
    {
      "cell_type": "markdown",
      "source": [
        "#Entrenando el modelo 1"
      ],
      "metadata": {
        "id": "q2hPvSn5WoUp"
      }
    },
    {
      "cell_type": "code",
      "source": [
        "epochs = 5\n",
        "for t in range(epochs):\n",
        "    print(f\"Epoch {t+1}\\n-------------------------------\")\n",
        "    train(train_dataloader, model, loss_fn, optimizer)\n",
        "    test(test_dataloader, model, loss_fn)\n",
        "print(\"Done!\")"
      ],
      "metadata": {
        "colab": {
          "base_uri": "https://localhost:8080/"
        },
        "id": "NSC6EJAmWqMX",
        "outputId": "718d99a9-22fb-4fa4-9a93-8e94b67123db"
      },
      "execution_count": null,
      "outputs": [
        {
          "output_type": "stream",
          "name": "stdout",
          "text": [
            "Epoch 1\n",
            "-------------------------------\n",
            "loss: 2.288450  [    0/60000]\n",
            "loss: 0.849027  [ 6400/60000]\n",
            "loss: 0.730604  [12800/60000]\n",
            "loss: 0.694480  [19200/60000]\n",
            "loss: 0.559157  [25600/60000]\n",
            "loss: 0.465219  [32000/60000]\n",
            "loss: 0.525419  [38400/60000]\n",
            "loss: 0.588760  [44800/60000]\n",
            "loss: 0.546462  [51200/60000]\n",
            "loss: 0.471019  [57600/60000]\n",
            "Test Error: \n",
            " Accuracy: 78.7%, Avg loss: 0.551568 \n",
            "\n",
            "Epoch 2\n",
            "-------------------------------\n",
            "loss: 0.448226  [    0/60000]\n",
            "loss: 0.357648  [ 6400/60000]\n",
            "loss: 0.425244  [12800/60000]\n",
            "loss: 0.424238  [19200/60000]\n",
            "loss: 0.394353  [25600/60000]\n",
            "loss: 0.427025  [32000/60000]\n",
            "loss: 0.399301  [38400/60000]\n",
            "loss: 0.454013  [44800/60000]\n",
            "loss: 0.481075  [51200/60000]\n",
            "loss: 0.418080  [57600/60000]\n",
            "Test Error: \n",
            " Accuracy: 83.4%, Avg loss: 0.440113 \n",
            "\n",
            "Epoch 3\n",
            "-------------------------------\n",
            "loss: 0.252572  [    0/60000]\n",
            "loss: 0.330205  [ 6400/60000]\n",
            "loss: 0.352103  [12800/60000]\n",
            "loss: 0.379934  [19200/60000]\n",
            "loss: 0.341064  [25600/60000]\n",
            "loss: 0.423992  [32000/60000]\n",
            "loss: 0.325566  [38400/60000]\n",
            "loss: 0.477498  [44800/60000]\n",
            "loss: 0.434236  [51200/60000]\n",
            "loss: 0.420709  [57600/60000]\n",
            "Test Error: \n",
            " Accuracy: 81.8%, Avg loss: 0.496653 \n",
            "\n",
            "Epoch 4\n",
            "-------------------------------\n",
            "loss: 0.302871  [    0/60000]\n",
            "loss: 0.315552  [ 6400/60000]\n",
            "loss: 0.291123  [12800/60000]\n",
            "loss: 0.335585  [19200/60000]\n",
            "loss: 0.348209  [25600/60000]\n",
            "loss: 0.420148  [32000/60000]\n",
            "loss: 0.310050  [38400/60000]\n",
            "loss: 0.389653  [44800/60000]\n",
            "loss: 0.400452  [51200/60000]\n",
            "loss: 0.384096  [57600/60000]\n",
            "Test Error: \n",
            " Accuracy: 84.7%, Avg loss: 0.413680 \n",
            "\n",
            "Epoch 5\n",
            "-------------------------------\n",
            "loss: 0.246091  [    0/60000]\n",
            "loss: 0.302592  [ 6400/60000]\n",
            "loss: 0.187764  [12800/60000]\n",
            "loss: 0.341704  [19200/60000]\n",
            "loss: 0.341963  [25600/60000]\n",
            "loss: 0.408635  [32000/60000]\n",
            "loss: 0.319031  [38400/60000]\n",
            "loss: 0.352174  [44800/60000]\n",
            "loss: 0.388756  [51200/60000]\n",
            "loss: 0.348360  [57600/60000]\n",
            "Test Error: \n",
            " Accuracy: 85.2%, Avg loss: 0.404276 \n",
            "\n",
            "Done!\n"
          ]
        }
      ]
    },
    {
      "cell_type": "markdown",
      "source": [
        "#Entrenando Modelo 2"
      ],
      "metadata": {
        "id": "o1xCzPJHbct9"
      }
    },
    {
      "cell_type": "code",
      "source": [
        "epochs = 5\n",
        "for t in range(epochs):\n",
        "    print(f\"Epoch {t+1}\\n-------------------------------\")\n",
        "    train(train_dataloader, model_2, loss_fn, optimizer_2)\n",
        "    test(test_dataloader, model_2, loss_fn)\n",
        "print(\"Done!\")"
      ],
      "metadata": {
        "colab": {
          "base_uri": "https://localhost:8080/"
        },
        "id": "turtASuDX1sA",
        "outputId": "d1e9a1c6-540f-4e54-cae4-13c4e384e882"
      },
      "execution_count": null,
      "outputs": [
        {
          "output_type": "stream",
          "name": "stdout",
          "text": [
            "Epoch 1\n",
            "-------------------------------\n",
            "loss: 2.296657  [    0/60000]\n",
            "loss: 0.714956  [ 6400/60000]\n",
            "loss: 0.604107  [12800/60000]\n",
            "loss: 0.619613  [19200/60000]\n",
            "loss: 0.581173  [25600/60000]\n",
            "loss: 0.472152  [32000/60000]\n",
            "loss: 0.476727  [38400/60000]\n",
            "loss: 0.520017  [44800/60000]\n",
            "loss: 0.568735  [51200/60000]\n",
            "loss: 0.472483  [57600/60000]\n",
            "Test Error: \n",
            " Accuracy: 82.9%, Avg loss: 0.447104 \n",
            "\n",
            "Epoch 2\n",
            "-------------------------------\n",
            "loss: 0.297006  [    0/60000]\n",
            "loss: 0.342871  [ 6400/60000]\n",
            "loss: 0.382673  [12800/60000]\n",
            "loss: 0.393029  [19200/60000]\n",
            "loss: 0.364370  [25600/60000]\n",
            "loss: 0.409401  [32000/60000]\n",
            "loss: 0.355355  [38400/60000]\n",
            "loss: 0.463556  [44800/60000]\n",
            "loss: 0.459338  [51200/60000]\n",
            "loss: 0.442376  [57600/60000]\n",
            "Test Error: \n",
            " Accuracy: 84.4%, Avg loss: 0.418328 \n",
            "\n",
            "Epoch 3\n",
            "-------------------------------\n",
            "loss: 0.247578  [    0/60000]\n",
            "loss: 0.327247  [ 6400/60000]\n",
            "loss: 0.272811  [12800/60000]\n",
            "loss: 0.355467  [19200/60000]\n",
            "loss: 0.322601  [25600/60000]\n",
            "loss: 0.394352  [32000/60000]\n",
            "loss: 0.305180  [38400/60000]\n",
            "loss: 0.393387  [44800/60000]\n",
            "loss: 0.410619  [51200/60000]\n",
            "loss: 0.425845  [57600/60000]\n",
            "Test Error: \n",
            " Accuracy: 83.8%, Avg loss: 0.427897 \n",
            "\n",
            "Epoch 4\n",
            "-------------------------------\n",
            "loss: 0.242327  [    0/60000]\n",
            "loss: 0.315668  [ 6400/60000]\n",
            "loss: 0.241433  [12800/60000]\n",
            "loss: 0.331062  [19200/60000]\n",
            "loss: 0.308887  [25600/60000]\n",
            "loss: 0.356719  [32000/60000]\n",
            "loss: 0.332540  [38400/60000]\n",
            "loss: 0.353814  [44800/60000]\n",
            "loss: 0.359556  [51200/60000]\n",
            "loss: 0.434725  [57600/60000]\n",
            "Test Error: \n",
            " Accuracy: 85.2%, Avg loss: 0.399343 \n",
            "\n",
            "Epoch 5\n",
            "-------------------------------\n",
            "loss: 0.201726  [    0/60000]\n",
            "loss: 0.294128  [ 6400/60000]\n",
            "loss: 0.202736  [12800/60000]\n",
            "loss: 0.287810  [19200/60000]\n",
            "loss: 0.312327  [25600/60000]\n",
            "loss: 0.343787  [32000/60000]\n",
            "loss: 0.262920  [38400/60000]\n",
            "loss: 0.330471  [44800/60000]\n",
            "loss: 0.402481  [51200/60000]\n",
            "loss: 0.468090  [57600/60000]\n",
            "Test Error: \n",
            " Accuracy: 86.1%, Avg loss: 0.385547 \n",
            "\n",
            "Done!\n"
          ]
        }
      ]
    },
    {
      "cell_type": "markdown",
      "source": [
        "# Entrenando Modelo 3"
      ],
      "metadata": {
        "id": "4G02P5uNhb5L"
      }
    },
    {
      "cell_type": "code",
      "source": [
        "epochs = 5\n",
        "for t in range(epochs):\n",
        "    print(f\"Epoch {t+1}\\n-------------------------------\")\n",
        "    train(train_dataloader, model_3, loss_fn, optimizer_3)\n",
        "    test(test_dataloader, model_3, loss_fn)\n",
        "print(\"Done!\")"
      ],
      "metadata": {
        "colab": {
          "base_uri": "https://localhost:8080/"
        },
        "id": "p9D8grccbnO-",
        "outputId": "2d502671-7627-4bdb-e490-3841b395082a"
      },
      "execution_count": null,
      "outputs": [
        {
          "output_type": "stream",
          "name": "stdout",
          "text": [
            "Epoch 1\n",
            "-------------------------------\n",
            "loss: 2.319258  [    0/60000]\n",
            "loss: 1.846455  [ 6400/60000]\n",
            "loss: 1.075583  [12800/60000]\n",
            "loss: 0.983505  [19200/60000]\n",
            "loss: 0.775867  [25600/60000]\n",
            "loss: 0.747245  [32000/60000]\n",
            "loss: 0.725046  [38400/60000]\n",
            "loss: 0.760988  [44800/60000]\n",
            "loss: 0.704592  [51200/60000]\n",
            "loss: 0.591696  [57600/60000]\n",
            "Test Error: \n",
            " Accuracy: 74.9%, Avg loss: 0.665164 \n",
            "\n",
            "Epoch 2\n",
            "-------------------------------\n",
            "loss: 0.601825  [    0/60000]\n",
            "loss: 0.623032  [ 6400/60000]\n",
            "loss: 0.421529  [12800/60000]\n",
            "loss: 0.623129  [19200/60000]\n",
            "loss: 0.567260  [25600/60000]\n",
            "loss: 0.482952  [32000/60000]\n",
            "loss: 0.541002  [38400/60000]\n",
            "loss: 0.614496  [44800/60000]\n",
            "loss: 0.607901  [51200/60000]\n",
            "loss: 0.460965  [57600/60000]\n",
            "Test Error: \n",
            " Accuracy: 77.4%, Avg loss: 0.623585 \n",
            "\n",
            "Epoch 3\n",
            "-------------------------------\n",
            "loss: 0.519270  [    0/60000]\n",
            "loss: 0.527805  [ 6400/60000]\n",
            "loss: 0.361807  [12800/60000]\n",
            "loss: 0.529275  [19200/60000]\n",
            "loss: 0.484874  [25600/60000]\n",
            "loss: 0.448013  [32000/60000]\n",
            "loss: 0.480420  [38400/60000]\n",
            "loss: 0.575743  [44800/60000]\n",
            "loss: 0.567821  [51200/60000]\n",
            "loss: 0.405133  [57600/60000]\n",
            "Test Error: \n",
            " Accuracy: 79.0%, Avg loss: 0.569130 \n",
            "\n",
            "Epoch 4\n",
            "-------------------------------\n",
            "loss: 0.449065  [    0/60000]\n",
            "loss: 0.475876  [ 6400/60000]\n",
            "loss: 0.330848  [12800/60000]\n",
            "loss: 0.475133  [19200/60000]\n",
            "loss: 0.435227  [25600/60000]\n",
            "loss: 0.422264  [32000/60000]\n",
            "loss: 0.423828  [38400/60000]\n",
            "loss: 0.552786  [44800/60000]\n",
            "loss: 0.545723  [51200/60000]\n",
            "loss: 0.385250  [57600/60000]\n",
            "Test Error: \n",
            " Accuracy: 80.8%, Avg loss: 0.520999 \n",
            "\n",
            "Epoch 5\n",
            "-------------------------------\n",
            "loss: 0.388608  [    0/60000]\n",
            "loss: 0.437403  [ 6400/60000]\n",
            "loss: 0.310941  [12800/60000]\n",
            "loss: 0.439235  [19200/60000]\n",
            "loss: 0.407155  [25600/60000]\n",
            "loss: 0.404510  [32000/60000]\n",
            "loss: 0.385407  [38400/60000]\n",
            "loss: 0.537478  [44800/60000]\n",
            "loss: 0.528369  [51200/60000]\n",
            "loss: 0.376615  [57600/60000]\n",
            "Test Error: \n",
            " Accuracy: 82.1%, Avg loss: 0.488939 \n",
            "\n",
            "Done!\n"
          ]
        }
      ]
    },
    {
      "cell_type": "markdown",
      "source": [
        "# Entrenando Modelo 4"
      ],
      "metadata": {
        "id": "34IlruFGjwgG"
      }
    },
    {
      "cell_type": "code",
      "source": [
        "epochs = 5\n",
        "for t in range(epochs):\n",
        "    print(f\"Epoch {t+1}\\n-------------------------------\")\n",
        "    train(train_dataloader, model_4, loss_fn, optimizer_4)\n",
        "    test(test_dataloader, model_4, loss_fn)\n",
        "print(\"Done!\")"
      ],
      "metadata": {
        "colab": {
          "base_uri": "https://localhost:8080/"
        },
        "id": "FfepUUtJhh8_",
        "outputId": "a9e05c13-eaae-4d28-a149-c412ef3a55bc"
      },
      "execution_count": null,
      "outputs": [
        {
          "output_type": "stream",
          "name": "stdout",
          "text": [
            "Epoch 1\n",
            "-------------------------------\n",
            "loss: 2.308440  [    0/60000]\n",
            "loss: 1.172914  [ 6400/60000]\n",
            "loss: 1.121083  [12800/60000]\n",
            "loss: 0.804810  [19200/60000]\n",
            "loss: 0.820320  [25600/60000]\n",
            "loss: 0.743808  [32000/60000]\n",
            "loss: 0.783164  [38400/60000]\n",
            "loss: 1.122074  [44800/60000]\n",
            "loss: 0.759711  [51200/60000]\n",
            "loss: 0.672499  [57600/60000]\n",
            "Test Error: \n",
            " Accuracy: 65.7%, Avg loss: 0.835863 \n",
            "\n",
            "Epoch 2\n",
            "-------------------------------\n",
            "loss: 0.866208  [    0/60000]\n",
            "loss: 0.557503  [ 6400/60000]\n",
            "loss: 0.614796  [12800/60000]\n",
            "loss: 0.589840  [19200/60000]\n",
            "loss: 0.817883  [25600/60000]\n",
            "loss: 0.534260  [32000/60000]\n",
            "loss: 0.575050  [38400/60000]\n",
            "loss: 0.631787  [44800/60000]\n",
            "loss: 0.685603  [51200/60000]\n",
            "loss: 0.479408  [57600/60000]\n",
            "Test Error: \n",
            " Accuracy: 71.2%, Avg loss: 0.720455 \n",
            "\n",
            "Epoch 3\n",
            "-------------------------------\n",
            "loss: 0.651466  [    0/60000]\n",
            "loss: 0.490681  [ 6400/60000]\n",
            "loss: 0.481940  [12800/60000]\n",
            "loss: 0.611920  [19200/60000]\n",
            "loss: 0.687930  [25600/60000]\n",
            "loss: 0.414566  [32000/60000]\n",
            "loss: 0.563577  [38400/60000]\n",
            "loss: 0.739738  [44800/60000]\n",
            "loss: 0.668883  [51200/60000]\n",
            "loss: 0.472633  [57600/60000]\n",
            "Test Error: \n",
            " Accuracy: 72.5%, Avg loss: 0.836346 \n",
            "\n",
            "Epoch 4\n",
            "-------------------------------\n",
            "loss: 0.723656  [    0/60000]\n",
            "loss: 0.441892  [ 6400/60000]\n",
            "loss: 0.570762  [12800/60000]\n",
            "loss: 0.544253  [19200/60000]\n",
            "loss: 0.424956  [25600/60000]\n",
            "loss: 0.582849  [32000/60000]\n",
            "loss: 0.547458  [38400/60000]\n",
            "loss: 0.718371  [44800/60000]\n",
            "loss: 0.614055  [51200/60000]\n",
            "loss: 0.483410  [57600/60000]\n",
            "Test Error: \n",
            " Accuracy: 77.8%, Avg loss: 0.659857 \n",
            "\n",
            "Epoch 5\n",
            "-------------------------------\n",
            "loss: 0.493237  [    0/60000]\n",
            "loss: 0.395123  [ 6400/60000]\n",
            "loss: 0.504856  [12800/60000]\n",
            "loss: 0.522857  [19200/60000]\n",
            "loss: 0.423999  [25600/60000]\n",
            "loss: 0.448486  [32000/60000]\n",
            "loss: 0.525391  [38400/60000]\n",
            "loss: 0.628925  [44800/60000]\n",
            "loss: 0.532085  [51200/60000]\n",
            "loss: 0.466572  [57600/60000]\n",
            "Test Error: \n",
            " Accuracy: 80.5%, Avg loss: 0.560414 \n",
            "\n",
            "Done!\n"
          ]
        }
      ]
    },
    {
      "cell_type": "markdown",
      "source": [
        "# Entrenando Modelo 5"
      ],
      "metadata": {
        "id": "wxmoYyvI3GfT"
      }
    },
    {
      "cell_type": "code",
      "source": [
        "epochs = 5\n",
        "for t in range(epochs):\n",
        "    print(f\"Epoch {t+1}\\n-------------------------------\")\n",
        "    train(train_dataloader, model_5, loss_fn, optimizer_5)\n",
        "    test(test_dataloader, model_5, loss_fn)\n",
        "print(\"Done!\")"
      ],
      "metadata": {
        "id": "huePwppUj5cg",
        "colab": {
          "base_uri": "https://localhost:8080/"
        },
        "outputId": "6c35a9d0-b299-471b-9f09-d00e309f4f3c"
      },
      "execution_count": null,
      "outputs": [
        {
          "output_type": "stream",
          "name": "stdout",
          "text": [
            "Epoch 1\n",
            "-------------------------------\n",
            "loss: 0.455329  [    0/60000]\n",
            "loss: 0.584330  [ 6400/60000]\n",
            "loss: 0.488546  [12800/60000]\n",
            "loss: 0.572341  [19200/60000]\n",
            "loss: 0.533978  [25600/60000]\n",
            "loss: 0.479006  [32000/60000]\n",
            "loss: 0.480466  [38400/60000]\n",
            "loss: 0.578272  [44800/60000]\n",
            "loss: 0.581559  [51200/60000]\n",
            "loss: 0.479791  [57600/60000]\n",
            "Test Error: \n",
            " Accuracy: 78.6%, Avg loss: 0.568722 \n",
            "\n",
            "Epoch 2\n",
            "-------------------------------\n",
            "loss: 0.390194  [    0/60000]\n",
            "loss: 0.474981  [ 6400/60000]\n",
            "loss: 0.377194  [12800/60000]\n",
            "loss: 0.458619  [19200/60000]\n",
            "loss: 0.403883  [25600/60000]\n",
            "loss: 0.448015  [32000/60000]\n",
            "loss: 0.415742  [38400/60000]\n",
            "loss: 0.523577  [44800/60000]\n",
            "loss: 0.515809  [51200/60000]\n",
            "loss: 0.445957  [57600/60000]\n",
            "Test Error: \n",
            " Accuracy: 81.2%, Avg loss: 0.499186 \n",
            "\n",
            "Epoch 3\n",
            "-------------------------------\n",
            "loss: 0.308064  [    0/60000]\n",
            "loss: 0.403948  [ 6400/60000]\n",
            "loss: 0.320349  [12800/60000]\n",
            "loss: 0.392460  [19200/60000]\n",
            "loss: 0.346264  [25600/60000]\n",
            "loss: 0.422467  [32000/60000]\n",
            "loss: 0.369258  [38400/60000]\n",
            "loss: 0.485331  [44800/60000]\n",
            "loss: 0.462472  [51200/60000]\n",
            "loss: 0.421699  [57600/60000]\n",
            "Test Error: \n",
            " Accuracy: 83.1%, Avg loss: 0.452615 \n",
            "\n",
            "Epoch 4\n",
            "-------------------------------\n",
            "loss: 0.257712  [    0/60000]\n",
            "loss: 0.360730  [ 6400/60000]\n",
            "loss: 0.292761  [12800/60000]\n",
            "loss: 0.346103  [19200/60000]\n",
            "loss: 0.316901  [25600/60000]\n",
            "loss: 0.411787  [32000/60000]\n",
            "loss: 0.340864  [38400/60000]\n",
            "loss: 0.455017  [44800/60000]\n",
            "loss: 0.431218  [51200/60000]\n",
            "loss: 0.406247  [57600/60000]\n",
            "Test Error: \n",
            " Accuracy: 83.9%, Avg loss: 0.434145 \n",
            "\n",
            "Epoch 5\n",
            "-------------------------------\n",
            "loss: 0.237322  [    0/60000]\n",
            "loss: 0.328924  [ 6400/60000]\n",
            "loss: 0.264949  [12800/60000]\n",
            "loss: 0.305313  [19200/60000]\n",
            "loss: 0.312455  [25600/60000]\n",
            "loss: 0.398561  [32000/60000]\n",
            "loss: 0.317908  [38400/60000]\n",
            "loss: 0.424729  [44800/60000]\n",
            "loss: 0.403911  [51200/60000]\n",
            "loss: 0.395784  [57600/60000]\n",
            "Test Error: \n",
            " Accuracy: 84.5%, Avg loss: 0.414127 \n",
            "\n",
            "Done!\n"
          ]
        }
      ]
    },
    {
      "cell_type": "markdown",
      "source": [
        "#Discusión de Modelos\n",
        "\n",
        "#Parámetros generales\n",
        "\n",
        "Con el fin de poder hacer una comparación justa entre los diferentes modelos, se optó por entrenar por 5 épocas a todas las redes. De manera que los parámetros que se modificaron fueron:\n",
        "\n",
        "\n",
        "\n",
        "*   Arquitectura de la red (Número de capas y de nueronas)\n",
        "*   Tasa de aprendizaje \n",
        "*   Funciones de activación\n",
        "\n",
        "Y los parámetros que se tomarón en cuenta para evaluar a la red fue la exactitud sobre el conjunto de prueba.\n",
        "\n",
        "# Modelo 1\n",
        "En una primera instancia se probó una configuración con 3 capas densas, completamente conectadas y con función de activación ReLU, empezando con una capa con 128 neuronas, seguida por otra capa de 10 neuronas y 10 neuronas en la capa de salida. Obteniendo una exactitud de \\~85 % en la época 5.\n",
        "\n",
        "Tasa de aprendizaje  = $0.3$\n",
        "\n",
        "# Modelo 2\n",
        "En la segunda red, se contemplo una arquitectura de 3 capas densas, sin embargo, se aumento el número de neuronas en cada una de ellas. Obteniendo un modelo con 512 neuronas en la primer capa, 100 en la segunda y 10 en la capa de salida. Obteniendo una exactitud de \\~86 % en la época 5. Cabe aclarar que en cada capa se conservo la función de activación ReLU.\n",
        "\n",
        "Tasa de aprendizaje  = $0.35$\n",
        "\n",
        "# Modelo 3\n",
        "En la tercera red, se conservo la misma arquitectura y número de neuronas que en el segundo modelo, sin embargo, la función de activación se modificó por una sigmoide. Obteniendo una exactitud de \\~82 % en la época 5.\n",
        "\n",
        "Tasa de aprendizaje  = $0.4$\n",
        "\n",
        "# Modelo 4\n",
        "\n",
        "En la cuarta red, se probó disminuyendo el número de capas, de manera que se tienen 2 capas densas, la primera con 100 neuronas y la capa de salida con 10 neuronas y con una función de activación ReLU. Obteniendo una exactitud de \\~80 % en la época 5.\n",
        "\n",
        "Tasa de aprendizaje = $0.7$\n",
        "\n",
        "# Modelo 5\n",
        "\n",
        "En la quinta red, a diferencia del modelo cuatro, se aumento una capa densa extra, de modo que se cuanta con 4 capas densas, la primera con 512 neuronas, la segunda 256 neuronas, la tercera con 128 nueronas y 10 neuronas en la capa de salida, con funciones de activación ReLU. Obteniendo una exactitud de \\~84 % en la época 5. \n",
        "\n",
        "Tasa de aprendizaje = $0.05$\n",
        "\n",
        "# Conclusión\n",
        "\n",
        "Al varirar los diferentes parámetros en los modelos, se observó que una arquitectura con tres capas densas y función de activación ReLU (Modelo 2) muestra un mejor comportamiento en términos de exactitud en un conjunto de prueba. Por otro lado, la red en que se utilizó una función de activación sigmoide mostró un rendimiento menor en comparación con esa misma arquitectura con función de activación ReLU.\n",
        "\n",
        "Y el número de capas, en este caso, funcionó mejor con tres capas densas, haciendo notar que el número de capas dependerá de la naturaleza del problema y el tipo de conjunto de datos con los que se cuente.\n",
        "\n",
        "NOTA: Las tasas de aprendizaje furon encontradas de forma empírica, variando dicho parámetro hasta que se pudo obtener el valor más grande y que no disparará la pérdida. "
      ],
      "metadata": {
        "id": "OAP2bp_x7b61"
      }
    }
  ],
  "metadata": {
    "colab": {
      "provenance": [],
      "authorship_tag": "ABX9TyNBHxiL7MrqvE8oPW1g9Zv4",
      "include_colab_link": true
    },
    "kernelspec": {
      "display_name": "Python 3",
      "name": "python3"
    },
    "language_info": {
      "name": "python"
    },
    "accelerator": "GPU",
    "widgets": {
      "application/vnd.jupyter.widget-state+json": {
        "f2cd5e87703f41b189fcb0ae29c97048": {
          "model_module": "@jupyter-widgets/controls",
          "model_name": "HBoxModel",
          "model_module_version": "1.5.0",
          "state": {
            "_dom_classes": [],
            "_model_module": "@jupyter-widgets/controls",
            "_model_module_version": "1.5.0",
            "_model_name": "HBoxModel",
            "_view_count": null,
            "_view_module": "@jupyter-widgets/controls",
            "_view_module_version": "1.5.0",
            "_view_name": "HBoxView",
            "box_style": "",
            "children": [
              "IPY_MODEL_8b969d76f8bd470b935c37bb9d0101b3",
              "IPY_MODEL_8b586329359343f3befd08ea03ea9f89",
              "IPY_MODEL_22552074b28c41459e34eadf5408d339"
            ],
            "layout": "IPY_MODEL_6f5fb3de7a2b4e3d9db49c3cee70e42e"
          }
        },
        "8b969d76f8bd470b935c37bb9d0101b3": {
          "model_module": "@jupyter-widgets/controls",
          "model_name": "HTMLModel",
          "model_module_version": "1.5.0",
          "state": {
            "_dom_classes": [],
            "_model_module": "@jupyter-widgets/controls",
            "_model_module_version": "1.5.0",
            "_model_name": "HTMLModel",
            "_view_count": null,
            "_view_module": "@jupyter-widgets/controls",
            "_view_module_version": "1.5.0",
            "_view_name": "HTMLView",
            "description": "",
            "description_tooltip": null,
            "layout": "IPY_MODEL_06e0dcc6d0b6443388bc35afa3cb4b37",
            "placeholder": "​",
            "style": "IPY_MODEL_24062439677d4e9c9afd51d58afb10cf",
            "value": "100%"
          }
        },
        "8b586329359343f3befd08ea03ea9f89": {
          "model_module": "@jupyter-widgets/controls",
          "model_name": "FloatProgressModel",
          "model_module_version": "1.5.0",
          "state": {
            "_dom_classes": [],
            "_model_module": "@jupyter-widgets/controls",
            "_model_module_version": "1.5.0",
            "_model_name": "FloatProgressModel",
            "_view_count": null,
            "_view_module": "@jupyter-widgets/controls",
            "_view_module_version": "1.5.0",
            "_view_name": "ProgressView",
            "bar_style": "success",
            "description": "",
            "description_tooltip": null,
            "layout": "IPY_MODEL_225deb6a308342cda83164fc8fb72912",
            "max": 26421880,
            "min": 0,
            "orientation": "horizontal",
            "style": "IPY_MODEL_164420b9734f44f39e08276ef7199565",
            "value": 26421880
          }
        },
        "22552074b28c41459e34eadf5408d339": {
          "model_module": "@jupyter-widgets/controls",
          "model_name": "HTMLModel",
          "model_module_version": "1.5.0",
          "state": {
            "_dom_classes": [],
            "_model_module": "@jupyter-widgets/controls",
            "_model_module_version": "1.5.0",
            "_model_name": "HTMLModel",
            "_view_count": null,
            "_view_module": "@jupyter-widgets/controls",
            "_view_module_version": "1.5.0",
            "_view_name": "HTMLView",
            "description": "",
            "description_tooltip": null,
            "layout": "IPY_MODEL_ffe2d70425f047f4981d00ee8564befa",
            "placeholder": "​",
            "style": "IPY_MODEL_1b3fb4c102b64d71a7f108e0b25850bf",
            "value": " 26421880/26421880 [00:03&lt;00:00, 13360113.35it/s]"
          }
        },
        "6f5fb3de7a2b4e3d9db49c3cee70e42e": {
          "model_module": "@jupyter-widgets/base",
          "model_name": "LayoutModel",
          "model_module_version": "1.2.0",
          "state": {
            "_model_module": "@jupyter-widgets/base",
            "_model_module_version": "1.2.0",
            "_model_name": "LayoutModel",
            "_view_count": null,
            "_view_module": "@jupyter-widgets/base",
            "_view_module_version": "1.2.0",
            "_view_name": "LayoutView",
            "align_content": null,
            "align_items": null,
            "align_self": null,
            "border": null,
            "bottom": null,
            "display": null,
            "flex": null,
            "flex_flow": null,
            "grid_area": null,
            "grid_auto_columns": null,
            "grid_auto_flow": null,
            "grid_auto_rows": null,
            "grid_column": null,
            "grid_gap": null,
            "grid_row": null,
            "grid_template_areas": null,
            "grid_template_columns": null,
            "grid_template_rows": null,
            "height": null,
            "justify_content": null,
            "justify_items": null,
            "left": null,
            "margin": null,
            "max_height": null,
            "max_width": null,
            "min_height": null,
            "min_width": null,
            "object_fit": null,
            "object_position": null,
            "order": null,
            "overflow": null,
            "overflow_x": null,
            "overflow_y": null,
            "padding": null,
            "right": null,
            "top": null,
            "visibility": null,
            "width": null
          }
        },
        "06e0dcc6d0b6443388bc35afa3cb4b37": {
          "model_module": "@jupyter-widgets/base",
          "model_name": "LayoutModel",
          "model_module_version": "1.2.0",
          "state": {
            "_model_module": "@jupyter-widgets/base",
            "_model_module_version": "1.2.0",
            "_model_name": "LayoutModel",
            "_view_count": null,
            "_view_module": "@jupyter-widgets/base",
            "_view_module_version": "1.2.0",
            "_view_name": "LayoutView",
            "align_content": null,
            "align_items": null,
            "align_self": null,
            "border": null,
            "bottom": null,
            "display": null,
            "flex": null,
            "flex_flow": null,
            "grid_area": null,
            "grid_auto_columns": null,
            "grid_auto_flow": null,
            "grid_auto_rows": null,
            "grid_column": null,
            "grid_gap": null,
            "grid_row": null,
            "grid_template_areas": null,
            "grid_template_columns": null,
            "grid_template_rows": null,
            "height": null,
            "justify_content": null,
            "justify_items": null,
            "left": null,
            "margin": null,
            "max_height": null,
            "max_width": null,
            "min_height": null,
            "min_width": null,
            "object_fit": null,
            "object_position": null,
            "order": null,
            "overflow": null,
            "overflow_x": null,
            "overflow_y": null,
            "padding": null,
            "right": null,
            "top": null,
            "visibility": null,
            "width": null
          }
        },
        "24062439677d4e9c9afd51d58afb10cf": {
          "model_module": "@jupyter-widgets/controls",
          "model_name": "DescriptionStyleModel",
          "model_module_version": "1.5.0",
          "state": {
            "_model_module": "@jupyter-widgets/controls",
            "_model_module_version": "1.5.0",
            "_model_name": "DescriptionStyleModel",
            "_view_count": null,
            "_view_module": "@jupyter-widgets/base",
            "_view_module_version": "1.2.0",
            "_view_name": "StyleView",
            "description_width": ""
          }
        },
        "225deb6a308342cda83164fc8fb72912": {
          "model_module": "@jupyter-widgets/base",
          "model_name": "LayoutModel",
          "model_module_version": "1.2.0",
          "state": {
            "_model_module": "@jupyter-widgets/base",
            "_model_module_version": "1.2.0",
            "_model_name": "LayoutModel",
            "_view_count": null,
            "_view_module": "@jupyter-widgets/base",
            "_view_module_version": "1.2.0",
            "_view_name": "LayoutView",
            "align_content": null,
            "align_items": null,
            "align_self": null,
            "border": null,
            "bottom": null,
            "display": null,
            "flex": null,
            "flex_flow": null,
            "grid_area": null,
            "grid_auto_columns": null,
            "grid_auto_flow": null,
            "grid_auto_rows": null,
            "grid_column": null,
            "grid_gap": null,
            "grid_row": null,
            "grid_template_areas": null,
            "grid_template_columns": null,
            "grid_template_rows": null,
            "height": null,
            "justify_content": null,
            "justify_items": null,
            "left": null,
            "margin": null,
            "max_height": null,
            "max_width": null,
            "min_height": null,
            "min_width": null,
            "object_fit": null,
            "object_position": null,
            "order": null,
            "overflow": null,
            "overflow_x": null,
            "overflow_y": null,
            "padding": null,
            "right": null,
            "top": null,
            "visibility": null,
            "width": null
          }
        },
        "164420b9734f44f39e08276ef7199565": {
          "model_module": "@jupyter-widgets/controls",
          "model_name": "ProgressStyleModel",
          "model_module_version": "1.5.0",
          "state": {
            "_model_module": "@jupyter-widgets/controls",
            "_model_module_version": "1.5.0",
            "_model_name": "ProgressStyleModel",
            "_view_count": null,
            "_view_module": "@jupyter-widgets/base",
            "_view_module_version": "1.2.0",
            "_view_name": "StyleView",
            "bar_color": null,
            "description_width": ""
          }
        },
        "ffe2d70425f047f4981d00ee8564befa": {
          "model_module": "@jupyter-widgets/base",
          "model_name": "LayoutModel",
          "model_module_version": "1.2.0",
          "state": {
            "_model_module": "@jupyter-widgets/base",
            "_model_module_version": "1.2.0",
            "_model_name": "LayoutModel",
            "_view_count": null,
            "_view_module": "@jupyter-widgets/base",
            "_view_module_version": "1.2.0",
            "_view_name": "LayoutView",
            "align_content": null,
            "align_items": null,
            "align_self": null,
            "border": null,
            "bottom": null,
            "display": null,
            "flex": null,
            "flex_flow": null,
            "grid_area": null,
            "grid_auto_columns": null,
            "grid_auto_flow": null,
            "grid_auto_rows": null,
            "grid_column": null,
            "grid_gap": null,
            "grid_row": null,
            "grid_template_areas": null,
            "grid_template_columns": null,
            "grid_template_rows": null,
            "height": null,
            "justify_content": null,
            "justify_items": null,
            "left": null,
            "margin": null,
            "max_height": null,
            "max_width": null,
            "min_height": null,
            "min_width": null,
            "object_fit": null,
            "object_position": null,
            "order": null,
            "overflow": null,
            "overflow_x": null,
            "overflow_y": null,
            "padding": null,
            "right": null,
            "top": null,
            "visibility": null,
            "width": null
          }
        },
        "1b3fb4c102b64d71a7f108e0b25850bf": {
          "model_module": "@jupyter-widgets/controls",
          "model_name": "DescriptionStyleModel",
          "model_module_version": "1.5.0",
          "state": {
            "_model_module": "@jupyter-widgets/controls",
            "_model_module_version": "1.5.0",
            "_model_name": "DescriptionStyleModel",
            "_view_count": null,
            "_view_module": "@jupyter-widgets/base",
            "_view_module_version": "1.2.0",
            "_view_name": "StyleView",
            "description_width": ""
          }
        },
        "f8fc531b0a114db68f2b4d5e292fd567": {
          "model_module": "@jupyter-widgets/controls",
          "model_name": "HBoxModel",
          "model_module_version": "1.5.0",
          "state": {
            "_dom_classes": [],
            "_model_module": "@jupyter-widgets/controls",
            "_model_module_version": "1.5.0",
            "_model_name": "HBoxModel",
            "_view_count": null,
            "_view_module": "@jupyter-widgets/controls",
            "_view_module_version": "1.5.0",
            "_view_name": "HBoxView",
            "box_style": "",
            "children": [
              "IPY_MODEL_9a57a8da26c64d38992a1c49612ffa8d",
              "IPY_MODEL_0670f1f79f6c4fa59dcef316773417da",
              "IPY_MODEL_14c64f717bd249fea85519726fab4b50"
            ],
            "layout": "IPY_MODEL_c7166e0e53204228b004e5eca84d8364"
          }
        },
        "9a57a8da26c64d38992a1c49612ffa8d": {
          "model_module": "@jupyter-widgets/controls",
          "model_name": "HTMLModel",
          "model_module_version": "1.5.0",
          "state": {
            "_dom_classes": [],
            "_model_module": "@jupyter-widgets/controls",
            "_model_module_version": "1.5.0",
            "_model_name": "HTMLModel",
            "_view_count": null,
            "_view_module": "@jupyter-widgets/controls",
            "_view_module_version": "1.5.0",
            "_view_name": "HTMLView",
            "description": "",
            "description_tooltip": null,
            "layout": "IPY_MODEL_a24cd7f42bc84130a25315545e7fcfdf",
            "placeholder": "​",
            "style": "IPY_MODEL_a4a0dd1660644989a1fc53543a48fb66",
            "value": "100%"
          }
        },
        "0670f1f79f6c4fa59dcef316773417da": {
          "model_module": "@jupyter-widgets/controls",
          "model_name": "FloatProgressModel",
          "model_module_version": "1.5.0",
          "state": {
            "_dom_classes": [],
            "_model_module": "@jupyter-widgets/controls",
            "_model_module_version": "1.5.0",
            "_model_name": "FloatProgressModel",
            "_view_count": null,
            "_view_module": "@jupyter-widgets/controls",
            "_view_module_version": "1.5.0",
            "_view_name": "ProgressView",
            "bar_style": "success",
            "description": "",
            "description_tooltip": null,
            "layout": "IPY_MODEL_8419188b0e8244afbc1d4d564462bb47",
            "max": 29515,
            "min": 0,
            "orientation": "horizontal",
            "style": "IPY_MODEL_34f80655e6e649eebb0f705ae03ae882",
            "value": 29515
          }
        },
        "14c64f717bd249fea85519726fab4b50": {
          "model_module": "@jupyter-widgets/controls",
          "model_name": "HTMLModel",
          "model_module_version": "1.5.0",
          "state": {
            "_dom_classes": [],
            "_model_module": "@jupyter-widgets/controls",
            "_model_module_version": "1.5.0",
            "_model_name": "HTMLModel",
            "_view_count": null,
            "_view_module": "@jupyter-widgets/controls",
            "_view_module_version": "1.5.0",
            "_view_name": "HTMLView",
            "description": "",
            "description_tooltip": null,
            "layout": "IPY_MODEL_ba6a4f08abfd439a9fe159007603036d",
            "placeholder": "​",
            "style": "IPY_MODEL_494f862049294e9ea6b528b34b182869",
            "value": " 29515/29515 [00:00&lt;00:00, 147491.27it/s]"
          }
        },
        "c7166e0e53204228b004e5eca84d8364": {
          "model_module": "@jupyter-widgets/base",
          "model_name": "LayoutModel",
          "model_module_version": "1.2.0",
          "state": {
            "_model_module": "@jupyter-widgets/base",
            "_model_module_version": "1.2.0",
            "_model_name": "LayoutModel",
            "_view_count": null,
            "_view_module": "@jupyter-widgets/base",
            "_view_module_version": "1.2.0",
            "_view_name": "LayoutView",
            "align_content": null,
            "align_items": null,
            "align_self": null,
            "border": null,
            "bottom": null,
            "display": null,
            "flex": null,
            "flex_flow": null,
            "grid_area": null,
            "grid_auto_columns": null,
            "grid_auto_flow": null,
            "grid_auto_rows": null,
            "grid_column": null,
            "grid_gap": null,
            "grid_row": null,
            "grid_template_areas": null,
            "grid_template_columns": null,
            "grid_template_rows": null,
            "height": null,
            "justify_content": null,
            "justify_items": null,
            "left": null,
            "margin": null,
            "max_height": null,
            "max_width": null,
            "min_height": null,
            "min_width": null,
            "object_fit": null,
            "object_position": null,
            "order": null,
            "overflow": null,
            "overflow_x": null,
            "overflow_y": null,
            "padding": null,
            "right": null,
            "top": null,
            "visibility": null,
            "width": null
          }
        },
        "a24cd7f42bc84130a25315545e7fcfdf": {
          "model_module": "@jupyter-widgets/base",
          "model_name": "LayoutModel",
          "model_module_version": "1.2.0",
          "state": {
            "_model_module": "@jupyter-widgets/base",
            "_model_module_version": "1.2.0",
            "_model_name": "LayoutModel",
            "_view_count": null,
            "_view_module": "@jupyter-widgets/base",
            "_view_module_version": "1.2.0",
            "_view_name": "LayoutView",
            "align_content": null,
            "align_items": null,
            "align_self": null,
            "border": null,
            "bottom": null,
            "display": null,
            "flex": null,
            "flex_flow": null,
            "grid_area": null,
            "grid_auto_columns": null,
            "grid_auto_flow": null,
            "grid_auto_rows": null,
            "grid_column": null,
            "grid_gap": null,
            "grid_row": null,
            "grid_template_areas": null,
            "grid_template_columns": null,
            "grid_template_rows": null,
            "height": null,
            "justify_content": null,
            "justify_items": null,
            "left": null,
            "margin": null,
            "max_height": null,
            "max_width": null,
            "min_height": null,
            "min_width": null,
            "object_fit": null,
            "object_position": null,
            "order": null,
            "overflow": null,
            "overflow_x": null,
            "overflow_y": null,
            "padding": null,
            "right": null,
            "top": null,
            "visibility": null,
            "width": null
          }
        },
        "a4a0dd1660644989a1fc53543a48fb66": {
          "model_module": "@jupyter-widgets/controls",
          "model_name": "DescriptionStyleModel",
          "model_module_version": "1.5.0",
          "state": {
            "_model_module": "@jupyter-widgets/controls",
            "_model_module_version": "1.5.0",
            "_model_name": "DescriptionStyleModel",
            "_view_count": null,
            "_view_module": "@jupyter-widgets/base",
            "_view_module_version": "1.2.0",
            "_view_name": "StyleView",
            "description_width": ""
          }
        },
        "8419188b0e8244afbc1d4d564462bb47": {
          "model_module": "@jupyter-widgets/base",
          "model_name": "LayoutModel",
          "model_module_version": "1.2.0",
          "state": {
            "_model_module": "@jupyter-widgets/base",
            "_model_module_version": "1.2.0",
            "_model_name": "LayoutModel",
            "_view_count": null,
            "_view_module": "@jupyter-widgets/base",
            "_view_module_version": "1.2.0",
            "_view_name": "LayoutView",
            "align_content": null,
            "align_items": null,
            "align_self": null,
            "border": null,
            "bottom": null,
            "display": null,
            "flex": null,
            "flex_flow": null,
            "grid_area": null,
            "grid_auto_columns": null,
            "grid_auto_flow": null,
            "grid_auto_rows": null,
            "grid_column": null,
            "grid_gap": null,
            "grid_row": null,
            "grid_template_areas": null,
            "grid_template_columns": null,
            "grid_template_rows": null,
            "height": null,
            "justify_content": null,
            "justify_items": null,
            "left": null,
            "margin": null,
            "max_height": null,
            "max_width": null,
            "min_height": null,
            "min_width": null,
            "object_fit": null,
            "object_position": null,
            "order": null,
            "overflow": null,
            "overflow_x": null,
            "overflow_y": null,
            "padding": null,
            "right": null,
            "top": null,
            "visibility": null,
            "width": null
          }
        },
        "34f80655e6e649eebb0f705ae03ae882": {
          "model_module": "@jupyter-widgets/controls",
          "model_name": "ProgressStyleModel",
          "model_module_version": "1.5.0",
          "state": {
            "_model_module": "@jupyter-widgets/controls",
            "_model_module_version": "1.5.0",
            "_model_name": "ProgressStyleModel",
            "_view_count": null,
            "_view_module": "@jupyter-widgets/base",
            "_view_module_version": "1.2.0",
            "_view_name": "StyleView",
            "bar_color": null,
            "description_width": ""
          }
        },
        "ba6a4f08abfd439a9fe159007603036d": {
          "model_module": "@jupyter-widgets/base",
          "model_name": "LayoutModel",
          "model_module_version": "1.2.0",
          "state": {
            "_model_module": "@jupyter-widgets/base",
            "_model_module_version": "1.2.0",
            "_model_name": "LayoutModel",
            "_view_count": null,
            "_view_module": "@jupyter-widgets/base",
            "_view_module_version": "1.2.0",
            "_view_name": "LayoutView",
            "align_content": null,
            "align_items": null,
            "align_self": null,
            "border": null,
            "bottom": null,
            "display": null,
            "flex": null,
            "flex_flow": null,
            "grid_area": null,
            "grid_auto_columns": null,
            "grid_auto_flow": null,
            "grid_auto_rows": null,
            "grid_column": null,
            "grid_gap": null,
            "grid_row": null,
            "grid_template_areas": null,
            "grid_template_columns": null,
            "grid_template_rows": null,
            "height": null,
            "justify_content": null,
            "justify_items": null,
            "left": null,
            "margin": null,
            "max_height": null,
            "max_width": null,
            "min_height": null,
            "min_width": null,
            "object_fit": null,
            "object_position": null,
            "order": null,
            "overflow": null,
            "overflow_x": null,
            "overflow_y": null,
            "padding": null,
            "right": null,
            "top": null,
            "visibility": null,
            "width": null
          }
        },
        "494f862049294e9ea6b528b34b182869": {
          "model_module": "@jupyter-widgets/controls",
          "model_name": "DescriptionStyleModel",
          "model_module_version": "1.5.0",
          "state": {
            "_model_module": "@jupyter-widgets/controls",
            "_model_module_version": "1.5.0",
            "_model_name": "DescriptionStyleModel",
            "_view_count": null,
            "_view_module": "@jupyter-widgets/base",
            "_view_module_version": "1.2.0",
            "_view_name": "StyleView",
            "description_width": ""
          }
        },
        "fa250be08c89484589e077b23343460b": {
          "model_module": "@jupyter-widgets/controls",
          "model_name": "HBoxModel",
          "model_module_version": "1.5.0",
          "state": {
            "_dom_classes": [],
            "_model_module": "@jupyter-widgets/controls",
            "_model_module_version": "1.5.0",
            "_model_name": "HBoxModel",
            "_view_count": null,
            "_view_module": "@jupyter-widgets/controls",
            "_view_module_version": "1.5.0",
            "_view_name": "HBoxView",
            "box_style": "",
            "children": [
              "IPY_MODEL_a359df919cd4486aabc33183e865b218",
              "IPY_MODEL_12b3d4cd5f70476098d74eaca4981107",
              "IPY_MODEL_434b5282f46e40b7b28beb0158ed87fc"
            ],
            "layout": "IPY_MODEL_4d2c4c144aee4c6a9e0a7952b82dd88d"
          }
        },
        "a359df919cd4486aabc33183e865b218": {
          "model_module": "@jupyter-widgets/controls",
          "model_name": "HTMLModel",
          "model_module_version": "1.5.0",
          "state": {
            "_dom_classes": [],
            "_model_module": "@jupyter-widgets/controls",
            "_model_module_version": "1.5.0",
            "_model_name": "HTMLModel",
            "_view_count": null,
            "_view_module": "@jupyter-widgets/controls",
            "_view_module_version": "1.5.0",
            "_view_name": "HTMLView",
            "description": "",
            "description_tooltip": null,
            "layout": "IPY_MODEL_f6390d2b21524448bfccad159802f5b1",
            "placeholder": "​",
            "style": "IPY_MODEL_5f54209b68134790889717afb0522713",
            "value": "100%"
          }
        },
        "12b3d4cd5f70476098d74eaca4981107": {
          "model_module": "@jupyter-widgets/controls",
          "model_name": "FloatProgressModel",
          "model_module_version": "1.5.0",
          "state": {
            "_dom_classes": [],
            "_model_module": "@jupyter-widgets/controls",
            "_model_module_version": "1.5.0",
            "_model_name": "FloatProgressModel",
            "_view_count": null,
            "_view_module": "@jupyter-widgets/controls",
            "_view_module_version": "1.5.0",
            "_view_name": "ProgressView",
            "bar_style": "success",
            "description": "",
            "description_tooltip": null,
            "layout": "IPY_MODEL_8b5a8044e39c42679b49eac13b31305b",
            "max": 4422102,
            "min": 0,
            "orientation": "horizontal",
            "style": "IPY_MODEL_bdea44965832424d9ef29cd3449424d8",
            "value": 4422102
          }
        },
        "434b5282f46e40b7b28beb0158ed87fc": {
          "model_module": "@jupyter-widgets/controls",
          "model_name": "HTMLModel",
          "model_module_version": "1.5.0",
          "state": {
            "_dom_classes": [],
            "_model_module": "@jupyter-widgets/controls",
            "_model_module_version": "1.5.0",
            "_model_name": "HTMLModel",
            "_view_count": null,
            "_view_module": "@jupyter-widgets/controls",
            "_view_module_version": "1.5.0",
            "_view_name": "HTMLView",
            "description": "",
            "description_tooltip": null,
            "layout": "IPY_MODEL_63d484c77eb64c1eb6653c54fce23da2",
            "placeholder": "​",
            "style": "IPY_MODEL_cc9b1f66d04a49cca443ab8e13a506f3",
            "value": " 4422102/4422102 [00:01&lt;00:00, 4694371.69it/s]"
          }
        },
        "4d2c4c144aee4c6a9e0a7952b82dd88d": {
          "model_module": "@jupyter-widgets/base",
          "model_name": "LayoutModel",
          "model_module_version": "1.2.0",
          "state": {
            "_model_module": "@jupyter-widgets/base",
            "_model_module_version": "1.2.0",
            "_model_name": "LayoutModel",
            "_view_count": null,
            "_view_module": "@jupyter-widgets/base",
            "_view_module_version": "1.2.0",
            "_view_name": "LayoutView",
            "align_content": null,
            "align_items": null,
            "align_self": null,
            "border": null,
            "bottom": null,
            "display": null,
            "flex": null,
            "flex_flow": null,
            "grid_area": null,
            "grid_auto_columns": null,
            "grid_auto_flow": null,
            "grid_auto_rows": null,
            "grid_column": null,
            "grid_gap": null,
            "grid_row": null,
            "grid_template_areas": null,
            "grid_template_columns": null,
            "grid_template_rows": null,
            "height": null,
            "justify_content": null,
            "justify_items": null,
            "left": null,
            "margin": null,
            "max_height": null,
            "max_width": null,
            "min_height": null,
            "min_width": null,
            "object_fit": null,
            "object_position": null,
            "order": null,
            "overflow": null,
            "overflow_x": null,
            "overflow_y": null,
            "padding": null,
            "right": null,
            "top": null,
            "visibility": null,
            "width": null
          }
        },
        "f6390d2b21524448bfccad159802f5b1": {
          "model_module": "@jupyter-widgets/base",
          "model_name": "LayoutModel",
          "model_module_version": "1.2.0",
          "state": {
            "_model_module": "@jupyter-widgets/base",
            "_model_module_version": "1.2.0",
            "_model_name": "LayoutModel",
            "_view_count": null,
            "_view_module": "@jupyter-widgets/base",
            "_view_module_version": "1.2.0",
            "_view_name": "LayoutView",
            "align_content": null,
            "align_items": null,
            "align_self": null,
            "border": null,
            "bottom": null,
            "display": null,
            "flex": null,
            "flex_flow": null,
            "grid_area": null,
            "grid_auto_columns": null,
            "grid_auto_flow": null,
            "grid_auto_rows": null,
            "grid_column": null,
            "grid_gap": null,
            "grid_row": null,
            "grid_template_areas": null,
            "grid_template_columns": null,
            "grid_template_rows": null,
            "height": null,
            "justify_content": null,
            "justify_items": null,
            "left": null,
            "margin": null,
            "max_height": null,
            "max_width": null,
            "min_height": null,
            "min_width": null,
            "object_fit": null,
            "object_position": null,
            "order": null,
            "overflow": null,
            "overflow_x": null,
            "overflow_y": null,
            "padding": null,
            "right": null,
            "top": null,
            "visibility": null,
            "width": null
          }
        },
        "5f54209b68134790889717afb0522713": {
          "model_module": "@jupyter-widgets/controls",
          "model_name": "DescriptionStyleModel",
          "model_module_version": "1.5.0",
          "state": {
            "_model_module": "@jupyter-widgets/controls",
            "_model_module_version": "1.5.0",
            "_model_name": "DescriptionStyleModel",
            "_view_count": null,
            "_view_module": "@jupyter-widgets/base",
            "_view_module_version": "1.2.0",
            "_view_name": "StyleView",
            "description_width": ""
          }
        },
        "8b5a8044e39c42679b49eac13b31305b": {
          "model_module": "@jupyter-widgets/base",
          "model_name": "LayoutModel",
          "model_module_version": "1.2.0",
          "state": {
            "_model_module": "@jupyter-widgets/base",
            "_model_module_version": "1.2.0",
            "_model_name": "LayoutModel",
            "_view_count": null,
            "_view_module": "@jupyter-widgets/base",
            "_view_module_version": "1.2.0",
            "_view_name": "LayoutView",
            "align_content": null,
            "align_items": null,
            "align_self": null,
            "border": null,
            "bottom": null,
            "display": null,
            "flex": null,
            "flex_flow": null,
            "grid_area": null,
            "grid_auto_columns": null,
            "grid_auto_flow": null,
            "grid_auto_rows": null,
            "grid_column": null,
            "grid_gap": null,
            "grid_row": null,
            "grid_template_areas": null,
            "grid_template_columns": null,
            "grid_template_rows": null,
            "height": null,
            "justify_content": null,
            "justify_items": null,
            "left": null,
            "margin": null,
            "max_height": null,
            "max_width": null,
            "min_height": null,
            "min_width": null,
            "object_fit": null,
            "object_position": null,
            "order": null,
            "overflow": null,
            "overflow_x": null,
            "overflow_y": null,
            "padding": null,
            "right": null,
            "top": null,
            "visibility": null,
            "width": null
          }
        },
        "bdea44965832424d9ef29cd3449424d8": {
          "model_module": "@jupyter-widgets/controls",
          "model_name": "ProgressStyleModel",
          "model_module_version": "1.5.0",
          "state": {
            "_model_module": "@jupyter-widgets/controls",
            "_model_module_version": "1.5.0",
            "_model_name": "ProgressStyleModel",
            "_view_count": null,
            "_view_module": "@jupyter-widgets/base",
            "_view_module_version": "1.2.0",
            "_view_name": "StyleView",
            "bar_color": null,
            "description_width": ""
          }
        },
        "63d484c77eb64c1eb6653c54fce23da2": {
          "model_module": "@jupyter-widgets/base",
          "model_name": "LayoutModel",
          "model_module_version": "1.2.0",
          "state": {
            "_model_module": "@jupyter-widgets/base",
            "_model_module_version": "1.2.0",
            "_model_name": "LayoutModel",
            "_view_count": null,
            "_view_module": "@jupyter-widgets/base",
            "_view_module_version": "1.2.0",
            "_view_name": "LayoutView",
            "align_content": null,
            "align_items": null,
            "align_self": null,
            "border": null,
            "bottom": null,
            "display": null,
            "flex": null,
            "flex_flow": null,
            "grid_area": null,
            "grid_auto_columns": null,
            "grid_auto_flow": null,
            "grid_auto_rows": null,
            "grid_column": null,
            "grid_gap": null,
            "grid_row": null,
            "grid_template_areas": null,
            "grid_template_columns": null,
            "grid_template_rows": null,
            "height": null,
            "justify_content": null,
            "justify_items": null,
            "left": null,
            "margin": null,
            "max_height": null,
            "max_width": null,
            "min_height": null,
            "min_width": null,
            "object_fit": null,
            "object_position": null,
            "order": null,
            "overflow": null,
            "overflow_x": null,
            "overflow_y": null,
            "padding": null,
            "right": null,
            "top": null,
            "visibility": null,
            "width": null
          }
        },
        "cc9b1f66d04a49cca443ab8e13a506f3": {
          "model_module": "@jupyter-widgets/controls",
          "model_name": "DescriptionStyleModel",
          "model_module_version": "1.5.0",
          "state": {
            "_model_module": "@jupyter-widgets/controls",
            "_model_module_version": "1.5.0",
            "_model_name": "DescriptionStyleModel",
            "_view_count": null,
            "_view_module": "@jupyter-widgets/base",
            "_view_module_version": "1.2.0",
            "_view_name": "StyleView",
            "description_width": ""
          }
        },
        "9e214a36213c422d88d6926565b38ac1": {
          "model_module": "@jupyter-widgets/controls",
          "model_name": "HBoxModel",
          "model_module_version": "1.5.0",
          "state": {
            "_dom_classes": [],
            "_model_module": "@jupyter-widgets/controls",
            "_model_module_version": "1.5.0",
            "_model_name": "HBoxModel",
            "_view_count": null,
            "_view_module": "@jupyter-widgets/controls",
            "_view_module_version": "1.5.0",
            "_view_name": "HBoxView",
            "box_style": "",
            "children": [
              "IPY_MODEL_a0dcb5c9b16c462c8de2b68c1fdea229",
              "IPY_MODEL_3c33bee50a5c49bc9eaaed6e9966c9c4",
              "IPY_MODEL_a0a2d51dc9704d8da84f725082ecc384"
            ],
            "layout": "IPY_MODEL_8f8276b96b1d4ddbac6ff875c0cf6340"
          }
        },
        "a0dcb5c9b16c462c8de2b68c1fdea229": {
          "model_module": "@jupyter-widgets/controls",
          "model_name": "HTMLModel",
          "model_module_version": "1.5.0",
          "state": {
            "_dom_classes": [],
            "_model_module": "@jupyter-widgets/controls",
            "_model_module_version": "1.5.0",
            "_model_name": "HTMLModel",
            "_view_count": null,
            "_view_module": "@jupyter-widgets/controls",
            "_view_module_version": "1.5.0",
            "_view_name": "HTMLView",
            "description": "",
            "description_tooltip": null,
            "layout": "IPY_MODEL_94f7ad69c31d4b00880120308a7b3e02",
            "placeholder": "​",
            "style": "IPY_MODEL_9eb6ce6e4f8e482f89fc3d1a3a088199",
            "value": "100%"
          }
        },
        "3c33bee50a5c49bc9eaaed6e9966c9c4": {
          "model_module": "@jupyter-widgets/controls",
          "model_name": "FloatProgressModel",
          "model_module_version": "1.5.0",
          "state": {
            "_dom_classes": [],
            "_model_module": "@jupyter-widgets/controls",
            "_model_module_version": "1.5.0",
            "_model_name": "FloatProgressModel",
            "_view_count": null,
            "_view_module": "@jupyter-widgets/controls",
            "_view_module_version": "1.5.0",
            "_view_name": "ProgressView",
            "bar_style": "success",
            "description": "",
            "description_tooltip": null,
            "layout": "IPY_MODEL_810d22bb680c4c3f9d2b1fc84d31223a",
            "max": 5148,
            "min": 0,
            "orientation": "horizontal",
            "style": "IPY_MODEL_0e94b4799a2d449e9596499e60c2c3e2",
            "value": 5148
          }
        },
        "a0a2d51dc9704d8da84f725082ecc384": {
          "model_module": "@jupyter-widgets/controls",
          "model_name": "HTMLModel",
          "model_module_version": "1.5.0",
          "state": {
            "_dom_classes": [],
            "_model_module": "@jupyter-widgets/controls",
            "_model_module_version": "1.5.0",
            "_model_name": "HTMLModel",
            "_view_count": null,
            "_view_module": "@jupyter-widgets/controls",
            "_view_module_version": "1.5.0",
            "_view_name": "HTMLView",
            "description": "",
            "description_tooltip": null,
            "layout": "IPY_MODEL_bb6f44205eaf4dccac622cacca17bbfa",
            "placeholder": "​",
            "style": "IPY_MODEL_0daa9b37096a491ba93f45fd14f08b07",
            "value": " 5148/5148 [00:00&lt;00:00, 90994.93it/s]"
          }
        },
        "8f8276b96b1d4ddbac6ff875c0cf6340": {
          "model_module": "@jupyter-widgets/base",
          "model_name": "LayoutModel",
          "model_module_version": "1.2.0",
          "state": {
            "_model_module": "@jupyter-widgets/base",
            "_model_module_version": "1.2.0",
            "_model_name": "LayoutModel",
            "_view_count": null,
            "_view_module": "@jupyter-widgets/base",
            "_view_module_version": "1.2.0",
            "_view_name": "LayoutView",
            "align_content": null,
            "align_items": null,
            "align_self": null,
            "border": null,
            "bottom": null,
            "display": null,
            "flex": null,
            "flex_flow": null,
            "grid_area": null,
            "grid_auto_columns": null,
            "grid_auto_flow": null,
            "grid_auto_rows": null,
            "grid_column": null,
            "grid_gap": null,
            "grid_row": null,
            "grid_template_areas": null,
            "grid_template_columns": null,
            "grid_template_rows": null,
            "height": null,
            "justify_content": null,
            "justify_items": null,
            "left": null,
            "margin": null,
            "max_height": null,
            "max_width": null,
            "min_height": null,
            "min_width": null,
            "object_fit": null,
            "object_position": null,
            "order": null,
            "overflow": null,
            "overflow_x": null,
            "overflow_y": null,
            "padding": null,
            "right": null,
            "top": null,
            "visibility": null,
            "width": null
          }
        },
        "94f7ad69c31d4b00880120308a7b3e02": {
          "model_module": "@jupyter-widgets/base",
          "model_name": "LayoutModel",
          "model_module_version": "1.2.0",
          "state": {
            "_model_module": "@jupyter-widgets/base",
            "_model_module_version": "1.2.0",
            "_model_name": "LayoutModel",
            "_view_count": null,
            "_view_module": "@jupyter-widgets/base",
            "_view_module_version": "1.2.0",
            "_view_name": "LayoutView",
            "align_content": null,
            "align_items": null,
            "align_self": null,
            "border": null,
            "bottom": null,
            "display": null,
            "flex": null,
            "flex_flow": null,
            "grid_area": null,
            "grid_auto_columns": null,
            "grid_auto_flow": null,
            "grid_auto_rows": null,
            "grid_column": null,
            "grid_gap": null,
            "grid_row": null,
            "grid_template_areas": null,
            "grid_template_columns": null,
            "grid_template_rows": null,
            "height": null,
            "justify_content": null,
            "justify_items": null,
            "left": null,
            "margin": null,
            "max_height": null,
            "max_width": null,
            "min_height": null,
            "min_width": null,
            "object_fit": null,
            "object_position": null,
            "order": null,
            "overflow": null,
            "overflow_x": null,
            "overflow_y": null,
            "padding": null,
            "right": null,
            "top": null,
            "visibility": null,
            "width": null
          }
        },
        "9eb6ce6e4f8e482f89fc3d1a3a088199": {
          "model_module": "@jupyter-widgets/controls",
          "model_name": "DescriptionStyleModel",
          "model_module_version": "1.5.0",
          "state": {
            "_model_module": "@jupyter-widgets/controls",
            "_model_module_version": "1.5.0",
            "_model_name": "DescriptionStyleModel",
            "_view_count": null,
            "_view_module": "@jupyter-widgets/base",
            "_view_module_version": "1.2.0",
            "_view_name": "StyleView",
            "description_width": ""
          }
        },
        "810d22bb680c4c3f9d2b1fc84d31223a": {
          "model_module": "@jupyter-widgets/base",
          "model_name": "LayoutModel",
          "model_module_version": "1.2.0",
          "state": {
            "_model_module": "@jupyter-widgets/base",
            "_model_module_version": "1.2.0",
            "_model_name": "LayoutModel",
            "_view_count": null,
            "_view_module": "@jupyter-widgets/base",
            "_view_module_version": "1.2.0",
            "_view_name": "LayoutView",
            "align_content": null,
            "align_items": null,
            "align_self": null,
            "border": null,
            "bottom": null,
            "display": null,
            "flex": null,
            "flex_flow": null,
            "grid_area": null,
            "grid_auto_columns": null,
            "grid_auto_flow": null,
            "grid_auto_rows": null,
            "grid_column": null,
            "grid_gap": null,
            "grid_row": null,
            "grid_template_areas": null,
            "grid_template_columns": null,
            "grid_template_rows": null,
            "height": null,
            "justify_content": null,
            "justify_items": null,
            "left": null,
            "margin": null,
            "max_height": null,
            "max_width": null,
            "min_height": null,
            "min_width": null,
            "object_fit": null,
            "object_position": null,
            "order": null,
            "overflow": null,
            "overflow_x": null,
            "overflow_y": null,
            "padding": null,
            "right": null,
            "top": null,
            "visibility": null,
            "width": null
          }
        },
        "0e94b4799a2d449e9596499e60c2c3e2": {
          "model_module": "@jupyter-widgets/controls",
          "model_name": "ProgressStyleModel",
          "model_module_version": "1.5.0",
          "state": {
            "_model_module": "@jupyter-widgets/controls",
            "_model_module_version": "1.5.0",
            "_model_name": "ProgressStyleModel",
            "_view_count": null,
            "_view_module": "@jupyter-widgets/base",
            "_view_module_version": "1.2.0",
            "_view_name": "StyleView",
            "bar_color": null,
            "description_width": ""
          }
        },
        "bb6f44205eaf4dccac622cacca17bbfa": {
          "model_module": "@jupyter-widgets/base",
          "model_name": "LayoutModel",
          "model_module_version": "1.2.0",
          "state": {
            "_model_module": "@jupyter-widgets/base",
            "_model_module_version": "1.2.0",
            "_model_name": "LayoutModel",
            "_view_count": null,
            "_view_module": "@jupyter-widgets/base",
            "_view_module_version": "1.2.0",
            "_view_name": "LayoutView",
            "align_content": null,
            "align_items": null,
            "align_self": null,
            "border": null,
            "bottom": null,
            "display": null,
            "flex": null,
            "flex_flow": null,
            "grid_area": null,
            "grid_auto_columns": null,
            "grid_auto_flow": null,
            "grid_auto_rows": null,
            "grid_column": null,
            "grid_gap": null,
            "grid_row": null,
            "grid_template_areas": null,
            "grid_template_columns": null,
            "grid_template_rows": null,
            "height": null,
            "justify_content": null,
            "justify_items": null,
            "left": null,
            "margin": null,
            "max_height": null,
            "max_width": null,
            "min_height": null,
            "min_width": null,
            "object_fit": null,
            "object_position": null,
            "order": null,
            "overflow": null,
            "overflow_x": null,
            "overflow_y": null,
            "padding": null,
            "right": null,
            "top": null,
            "visibility": null,
            "width": null
          }
        },
        "0daa9b37096a491ba93f45fd14f08b07": {
          "model_module": "@jupyter-widgets/controls",
          "model_name": "DescriptionStyleModel",
          "model_module_version": "1.5.0",
          "state": {
            "_model_module": "@jupyter-widgets/controls",
            "_model_module_version": "1.5.0",
            "_model_name": "DescriptionStyleModel",
            "_view_count": null,
            "_view_module": "@jupyter-widgets/base",
            "_view_module_version": "1.2.0",
            "_view_name": "StyleView",
            "description_width": ""
          }
        }
      }
    }
  },
  "nbformat": 4,
  "nbformat_minor": 0
}