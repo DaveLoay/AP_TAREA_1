{
  "nbformat": 4,
  "nbformat_minor": 0,
  "metadata": {
    "colab": {
      "provenance": [],
      "authorship_tag": "ABX9TyOC/gPb6UNREpgd7QpcF2B1",
      "include_colab_link": true
    },
    "kernelspec": {
      "name": "python3",
      "display_name": "Python 3"
    },
    "language_info": {
      "name": "python"
    },
    "accelerator": "GPU"
  },
  "cells": [
    {
      "cell_type": "markdown",
      "metadata": {
        "id": "view-in-github",
        "colab_type": "text"
      },
      "source": [
        "<a href=\"https://colab.research.google.com/github/DaveLoay/AP_TAREA_1/blob/main/AP_T1_EX3_1.ipynb\" target=\"_parent\"><img src=\"https://colab.research.google.com/assets/colab-badge.svg\" alt=\"Open In Colab\"/></a>"
      ]
    },
    {
      "cell_type": "code",
      "execution_count": null,
      "metadata": {
        "id": "GCLfwIDKNFeu"
      },
      "outputs": [],
      "source": [
        "import math\n",
        "import os\n",
        "import random\n",
        "import matplotlib.pyplot as plt\n",
        "import numpy as np\n",
        "import pandas as pd\n",
        "\n",
        "# NN\n",
        "import torch\n",
        "import torch.nn as nn\n",
        "import torch.nn.functional as F\n",
        "import torch.optim as optim\n",
        "\n",
        "from torch.utils.data import DataLoader, TensorDataset"
      ]
    },
    {
      "cell_type": "markdown",
      "source": [
        "# Importando Datos"
      ],
      "metadata": {
        "id": "Oif10iqNAq5A"
      }
    },
    {
      "cell_type": "code",
      "source": [
        "# data\n",
        "URL = 'https://raw.githubusercontent.com/gibranfp/CursoAprendizajeProfundo/2023-1/data/califs/califs.csv'\n",
        "data_dir = '../data'\n",
        "filepath = os.path.join(data_dir, 'califs.csv')\n",
        "\n",
        "def set_seed(seed=0):\n",
        "    \"\"\"Initializes pseudo-random number generators.\"\"\"\n",
        "    random.seed(seed)\n",
        "    np.random.seed(seed)\n",
        "    torch.manual_seed(seed)"
      ],
      "metadata": {
        "id": "pZ1ksFkIOKw5"
      },
      "execution_count": null,
      "outputs": []
    },
    {
      "cell_type": "markdown",
      "source": [
        "# Datos"
      ],
      "metadata": {
        "id": "IQjr_V8pOc1r"
      }
    },
    {
      "cell_type": "code",
      "source": [
        "! mkdir {data_dir}\n",
        "! wget -nc {URL} -O {filepath}"
      ],
      "metadata": {
        "colab": {
          "base_uri": "https://localhost:8080/"
        },
        "id": "SepYnVRAOelP",
        "outputId": "20d995ae-190a-4625-b966-9308c6f2e79f"
      },
      "execution_count": null,
      "outputs": [
        {
          "output_type": "stream",
          "name": "stdout",
          "text": [
            "mkdir: cannot create directory ‘../data’: File exists\n",
            "File ‘../data/califs.csv’ already there; not retrieving.\n"
          ]
        }
      ]
    },
    {
      "cell_type": "code",
      "source": [
        "df = pd.read_csv(filepath)\n",
        "print('Shape:', df.shape)\n",
        "df.head(5)"
      ],
      "metadata": {
        "colab": {
          "base_uri": "https://localhost:8080/",
          "height": 223
        },
        "id": "SDxvpVEzOgK9",
        "outputId": "9c31d383-84c9-4b7c-de07-eae9ce30b3dd"
      },
      "execution_count": null,
      "outputs": [
        {
          "output_type": "stream",
          "name": "stdout",
          "text": [
            "Shape: (50, 3)\n"
          ]
        },
        {
          "output_type": "execute_result",
          "data": {
            "text/plain": [
              "   prev  horas  calif\n",
              "0   5.6    8.2    5.1\n",
              "1   6.7    9.3    5.9\n",
              "2   5.1   10.0    5.4\n",
              "3   5.7   10.4    6.5\n",
              "4   7.1   10.4    6.7"
            ],
            "text/html": [
              "\n",
              "  <div id=\"df-cbe9fb8f-e946-4582-b033-95168f53ea5f\">\n",
              "    <div class=\"colab-df-container\">\n",
              "      <div>\n",
              "<style scoped>\n",
              "    .dataframe tbody tr th:only-of-type {\n",
              "        vertical-align: middle;\n",
              "    }\n",
              "\n",
              "    .dataframe tbody tr th {\n",
              "        vertical-align: top;\n",
              "    }\n",
              "\n",
              "    .dataframe thead th {\n",
              "        text-align: right;\n",
              "    }\n",
              "</style>\n",
              "<table border=\"1\" class=\"dataframe\">\n",
              "  <thead>\n",
              "    <tr style=\"text-align: right;\">\n",
              "      <th></th>\n",
              "      <th>prev</th>\n",
              "      <th>horas</th>\n",
              "      <th>calif</th>\n",
              "    </tr>\n",
              "  </thead>\n",
              "  <tbody>\n",
              "    <tr>\n",
              "      <th>0</th>\n",
              "      <td>5.6</td>\n",
              "      <td>8.2</td>\n",
              "      <td>5.1</td>\n",
              "    </tr>\n",
              "    <tr>\n",
              "      <th>1</th>\n",
              "      <td>6.7</td>\n",
              "      <td>9.3</td>\n",
              "      <td>5.9</td>\n",
              "    </tr>\n",
              "    <tr>\n",
              "      <th>2</th>\n",
              "      <td>5.1</td>\n",
              "      <td>10.0</td>\n",
              "      <td>5.4</td>\n",
              "    </tr>\n",
              "    <tr>\n",
              "      <th>3</th>\n",
              "      <td>5.7</td>\n",
              "      <td>10.4</td>\n",
              "      <td>6.5</td>\n",
              "    </tr>\n",
              "    <tr>\n",
              "      <th>4</th>\n",
              "      <td>7.1</td>\n",
              "      <td>10.4</td>\n",
              "      <td>6.7</td>\n",
              "    </tr>\n",
              "  </tbody>\n",
              "</table>\n",
              "</div>\n",
              "      <button class=\"colab-df-convert\" onclick=\"convertToInteractive('df-cbe9fb8f-e946-4582-b033-95168f53ea5f')\"\n",
              "              title=\"Convert this dataframe to an interactive table.\"\n",
              "              style=\"display:none;\">\n",
              "        \n",
              "  <svg xmlns=\"http://www.w3.org/2000/svg\" height=\"24px\"viewBox=\"0 0 24 24\"\n",
              "       width=\"24px\">\n",
              "    <path d=\"M0 0h24v24H0V0z\" fill=\"none\"/>\n",
              "    <path d=\"M18.56 5.44l.94 2.06.94-2.06 2.06-.94-2.06-.94-.94-2.06-.94 2.06-2.06.94zm-11 1L8.5 8.5l.94-2.06 2.06-.94-2.06-.94L8.5 2.5l-.94 2.06-2.06.94zm10 10l.94 2.06.94-2.06 2.06-.94-2.06-.94-.94-2.06-.94 2.06-2.06.94z\"/><path d=\"M17.41 7.96l-1.37-1.37c-.4-.4-.92-.59-1.43-.59-.52 0-1.04.2-1.43.59L10.3 9.45l-7.72 7.72c-.78.78-.78 2.05 0 2.83L4 21.41c.39.39.9.59 1.41.59.51 0 1.02-.2 1.41-.59l7.78-7.78 2.81-2.81c.8-.78.8-2.07 0-2.86zM5.41 20L4 18.59l7.72-7.72 1.47 1.35L5.41 20z\"/>\n",
              "  </svg>\n",
              "      </button>\n",
              "      \n",
              "  <style>\n",
              "    .colab-df-container {\n",
              "      display:flex;\n",
              "      flex-wrap:wrap;\n",
              "      gap: 12px;\n",
              "    }\n",
              "\n",
              "    .colab-df-convert {\n",
              "      background-color: #E8F0FE;\n",
              "      border: none;\n",
              "      border-radius: 50%;\n",
              "      cursor: pointer;\n",
              "      display: none;\n",
              "      fill: #1967D2;\n",
              "      height: 32px;\n",
              "      padding: 0 0 0 0;\n",
              "      width: 32px;\n",
              "    }\n",
              "\n",
              "    .colab-df-convert:hover {\n",
              "      background-color: #E2EBFA;\n",
              "      box-shadow: 0px 1px 2px rgba(60, 64, 67, 0.3), 0px 1px 3px 1px rgba(60, 64, 67, 0.15);\n",
              "      fill: #174EA6;\n",
              "    }\n",
              "\n",
              "    [theme=dark] .colab-df-convert {\n",
              "      background-color: #3B4455;\n",
              "      fill: #D2E3FC;\n",
              "    }\n",
              "\n",
              "    [theme=dark] .colab-df-convert:hover {\n",
              "      background-color: #434B5C;\n",
              "      box-shadow: 0px 1px 3px 1px rgba(0, 0, 0, 0.15);\n",
              "      filter: drop-shadow(0px 1px 2px rgba(0, 0, 0, 0.3));\n",
              "      fill: #FFFFFF;\n",
              "    }\n",
              "  </style>\n",
              "\n",
              "      <script>\n",
              "        const buttonEl =\n",
              "          document.querySelector('#df-cbe9fb8f-e946-4582-b033-95168f53ea5f button.colab-df-convert');\n",
              "        buttonEl.style.display =\n",
              "          google.colab.kernel.accessAllowed ? 'block' : 'none';\n",
              "\n",
              "        async function convertToInteractive(key) {\n",
              "          const element = document.querySelector('#df-cbe9fb8f-e946-4582-b033-95168f53ea5f');\n",
              "          const dataTable =\n",
              "            await google.colab.kernel.invokeFunction('convertToInteractive',\n",
              "                                                     [key], {});\n",
              "          if (!dataTable) return;\n",
              "\n",
              "          const docLinkHtml = 'Like what you see? Visit the ' +\n",
              "            '<a target=\"_blank\" href=https://colab.research.google.com/notebooks/data_table.ipynb>data table notebook</a>'\n",
              "            + ' to learn more about interactive tables.';\n",
              "          element.innerHTML = '';\n",
              "          dataTable['output_type'] = 'display_data';\n",
              "          await google.colab.output.renderOutput(dataTable, element);\n",
              "          const docLink = document.createElement('div');\n",
              "          docLink.innerHTML = docLinkHtml;\n",
              "          element.appendChild(docLink);\n",
              "        }\n",
              "      </script>\n",
              "    </div>\n",
              "  </div>\n",
              "  "
            ]
          },
          "metadata": {},
          "execution_count": 28
        }
      ]
    },
    {
      "cell_type": "markdown",
      "source": [
        "# Graficando datos"
      ],
      "metadata": {
        "id": "hs1Zzit6O5Jk"
      }
    },
    {
      "cell_type": "code",
      "source": [
        "fig = plt.figure()\n",
        "fig = plt.figure(figsize=(10,10))\n",
        "\n",
        "ax = plt.axes(projection='3d')\n",
        "\n",
        "\n",
        "x_axis = df['prev']\n",
        "y_axis = df['horas']\n",
        "z_axis = df['calif']\n",
        "# ax.plot3D(x_axis,y_axis,z_axis, 'gray')\n",
        "\n",
        "ax.scatter(x_axis, y_axis, z_axis, c=z_axis, cmap='viridis', linewidth=0.5);\n",
        "\n",
        "\n",
        "ax.set_xlabel('prev')\n",
        "ax.set_ylabel('horas')\n",
        "ax.set_zlabel('calif')\n",
        "ax.scatter3D(x_axis,y_axis,z_axis, c=z_axis, cmap='Greens')"
      ],
      "metadata": {
        "colab": {
          "base_uri": "https://localhost:8080/",
          "height": 610
        },
        "id": "c1PJdVCSPc-z",
        "outputId": "7443671a-b4ce-422e-f186-c1acbd32d483"
      },
      "execution_count": null,
      "outputs": [
        {
          "output_type": "execute_result",
          "data": {
            "text/plain": [
              "<mpl_toolkits.mplot3d.art3d.Path3DCollection at 0x7fb173b45d90>"
            ]
          },
          "metadata": {},
          "execution_count": 5
        },
        {
          "output_type": "display_data",
          "data": {
            "text/plain": [
              "<Figure size 432x288 with 0 Axes>"
            ]
          },
          "metadata": {}
        },
        {
          "output_type": "display_data",
          "data": {
            "text/plain": [
              "<Figure size 720x720 with 1 Axes>"
            ],
            "image/png": "[encoded data removed]"
          },
          "metadata": {
            "needs_background": "light"
          }
        }
      ]
    },
    {
      "cell_type": "markdown",
      "source": [
        "# Preparando Datos"
      ],
      "metadata": {
        "id": "p11jSZYfXywH"
      }
    },
    {
      "cell_type": "code",
      "source": [
        "x_ent = np.array(df.iloc[:,:2], dtype=\"float32\")\n",
        "y_ent = np.array(df.iloc[:,-1], dtype=\"float32\")[..., np.newaxis]\n",
        "\n",
        "x_ent = torch.tensor(x_ent)\n",
        "y_ent = torch.tensor(y_ent)\n",
        "\n",
        "print(x_ent.shape)\n",
        "print(y_ent.shape)"
      ],
      "metadata": {
        "colab": {
          "base_uri": "https://localhost:8080/"
        },
        "id": "nCicJuIwV6XY",
        "outputId": "f6974ca2-0812-4edf-db91-9b7a9e2501fc"
      },
      "execution_count": null,
      "outputs": [
        {
          "output_type": "stream",
          "name": "stdout",
          "text": [
            "torch.Size([50, 2])\n",
            "torch.Size([50, 1])\n"
          ]
        }
      ]
    },
    {
      "cell_type": "code",
      "source": [
        "x_ent[1]"
      ],
      "metadata": {
        "colab": {
          "base_uri": "https://localhost:8080/"
        },
        "id": "FjS9jxCc1Lla",
        "outputId": "c97c8d52-d442-4fb6-ae53-83cc58e86584"
      },
      "execution_count": null,
      "outputs": [
        {
          "output_type": "execute_result",
          "data": {
            "text/plain": [
              "tensor([6.7000, 9.3000])"
            ]
          },
          "metadata": {},
          "execution_count": 7
        }
      ]
    },
    {
      "cell_type": "markdown",
      "source": [
        "# DataSet"
      ],
      "metadata": {
        "id": "jxUAW0hfY6-A"
      }
    },
    {
      "cell_type": "code",
      "source": [
        "ds = TensorDataset(x_ent,y_ent)\n",
        "ds[0]"
      ],
      "metadata": {
        "colab": {
          "base_uri": "https://localhost:8080/"
        },
        "id": "H6KA7H2NXfUt",
        "outputId": "01007543-5d62-4a67-d1a5-12b971253fd0"
      },
      "execution_count": null,
      "outputs": [
        {
          "output_type": "execute_result",
          "data": {
            "text/plain": [
              "(tensor([5.6000, 8.2000]), tensor([5.1000]))"
            ]
          },
          "metadata": {},
          "execution_count": 8
        }
      ]
    },
    {
      "cell_type": "markdown",
      "source": [
        "# DataLoader"
      ],
      "metadata": {
        "id": "jqVQ3GKUarsq"
      }
    },
    {
      "cell_type": "code",
      "source": [
        "dl = DataLoader(ds,batch_size = 16, shuffle = True)\n",
        "\n",
        "# Iterando sobre el Dataset\n",
        "x, y = next(iter(dl))\n",
        "\n",
        "print(f\"x batch shape: {x.size()}\")\n",
        "print(f\"y batch shape: {y.size()}\")\n",
        "\n",
        "x_pr = x[0]\n",
        "y_pr = y[0]\n",
        "\n",
        "print(x_pr)\n",
        "print(y_pr)"
      ],
      "metadata": {
        "colab": {
          "base_uri": "https://localhost:8080/"
        },
        "id": "BYY9QwFIZSs4",
        "outputId": "4075c4a6-debf-4350-e381-c654b0bc7af0"
      },
      "execution_count": null,
      "outputs": [
        {
          "output_type": "stream",
          "name": "stdout",
          "text": [
            "x batch shape: torch.Size([16, 2])\n",
            "y batch shape: torch.Size([16, 1])\n",
            "tensor([ 5.9000, 11.3000])\n",
            "tensor([7.])\n"
          ]
        }
      ]
    },
    {
      "cell_type": "markdown",
      "source": [
        "# Revisando el dispositivo sobre el cual se trabaja"
      ],
      "metadata": {
        "id": "9WqaxYxegjaC"
      }
    },
    {
      "cell_type": "code",
      "source": [
        "device = \"cuda\" if torch.cuda.is_available() else \"cpu\"\n",
        "print(f\"Using {device} device\")"
      ],
      "metadata": {
        "colab": {
          "base_uri": "https://localhost:8080/"
        },
        "id": "8NhsIwNBefQS",
        "outputId": "93ba4442-8482-468f-d121-0425cbb56bc8"
      },
      "execution_count": null,
      "outputs": [
        {
          "output_type": "stream",
          "name": "stdout",
          "text": [
            "Using cuda device\n"
          ]
        }
      ]
    },
    {
      "cell_type": "markdown",
      "source": [
        "# Definiendo Arquitectura con interfaz de alto nivel "
      ],
      "metadata": {
        "id": "q_DcjGfehA3s"
      }
    },
    {
      "cell_type": "code",
      "source": [
        "from torch.nn.modules.linear import Linear\n",
        "model = nn.Sequential(\n",
        "    nn.Linear(2,2),\n",
        "    nn.Linear(2,1),\n",
        ")\n",
        "\n",
        "model"
      ],
      "metadata": {
        "colab": {
          "base_uri": "https://localhost:8080/"
        },
        "id": "rO39BiIzf1W6",
        "outputId": "bd43378e-462a-4acb-e1cc-300f45ed2921"
      },
      "execution_count": null,
      "outputs": [
        {
          "output_type": "execute_result",
          "data": {
            "text/plain": [
              "Sequential(\n",
              "  (0): Linear(in_features=2, out_features=2, bias=True)\n",
              "  (1): Linear(in_features=2, out_features=1, bias=True)\n",
              ")"
            ]
          },
          "metadata": {},
          "execution_count": 11
        }
      ]
    },
    {
      "cell_type": "markdown",
      "source": [
        "# Definimos el optimizador"
      ],
      "metadata": {
        "id": "kZIRZ8uHnRvn"
      }
    },
    {
      "cell_type": "code",
      "source": [
        "learning_rate = 0.0035\n",
        "batch_size = 64\n",
        "epochs = 5\n",
        "\n",
        "loss_fn = nn.MSELoss() # Definimosla función de costo, MSE para regresión\n",
        "optimizer = torch.optim.SGD(model.parameters(), lr = learning_rate)    # Definimos el optimizador\n"
      ],
      "metadata": {
        "id": "oXwwhXcZhJ53"
      },
      "execution_count": null,
      "outputs": []
    },
    {
      "cell_type": "code",
      "source": [
        "# Loop de entrenamiento\n",
        "def train_loop(dataloader, model,loss_fn,optimizer, epochs = 5):\n",
        "  \n",
        "  size = len(dataloader.dataset)\n",
        "  loss_hist, loss_hist2 = [], []\n",
        "\n",
        "  for epoch in range(epochs):\n",
        "      for batch, (x,y) in enumerate(dataloader):\n",
        "        # Calculando la predicción y la pérdida\n",
        "        pred = model(x)\n",
        "        loss = loss_fn(pred, y)\n",
        "        acc = (y == pred).type(torch.float32).mean()\n",
        "\n",
        "        # Backpropagation\n",
        "        optimizer.zero_grad()\n",
        "        loss.backward()\n",
        "        optimizer.step()\n",
        "\n",
        "        # Guardando el historial de pérdida\n",
        "        loss_hist.append(loss.item() * 100)\n",
        "        # acc_hist.append(acc.item() * 100)\n",
        "      \n",
        "      #Imprimiendo la pérdida de la época\n",
        "      loss = np.mean(loss_hist)\n",
        "      loss_hist2.append(loss) \n",
        "      # acc = np.mean(acc_hist)\n",
        "      # print(f'E{epoch:02} loss[{loss:6.2f}] acc=[{acc:5.2f}] ')\n",
        "      print(f'E{epoch:02} loss[{loss:6.2f}]')\n",
        "  \n",
        "  return loss_hist2"
      ],
      "metadata": {
        "id": "1UEqKSRaoRwC"
      },
      "execution_count": null,
      "outputs": []
    },
    {
      "cell_type": "code",
      "source": [
        "size = len(dl.dataset)\n",
        "size"
      ],
      "metadata": {
        "colab": {
          "base_uri": "https://localhost:8080/"
        },
        "id": "UQz5hnJtvz1B",
        "outputId": "ce62a69d-0e2d-47e8-da38-40ef1f78d7bb"
      },
      "execution_count": null,
      "outputs": [
        {
          "output_type": "execute_result",
          "data": {
            "text/plain": [
              "50"
            ]
          },
          "metadata": {},
          "execution_count": 14
        }
      ]
    },
    {
      "cell_type": "code",
      "source": [
        "loss1 = train_loop(dl,model,loss_fn,optimizer,epochs = 500)"
      ],
      "metadata": {
        "colab": {
          "base_uri": "https://localhost:8080/"
        },
        "id": "dkNujkTLsowy",
        "outputId": "5b38e434-81fa-415d-ec53-e1e6267006ea"
      },
      "execution_count": null,
      "outputs": [
        {
          "output_type": "stream",
          "name": "stdout",
          "text": [
            "E00 loss[2575.00]\n",
            "E01 loss[1301.83]\n",
            "E02 loss[878.13]\n",
            "E03 loss[663.57]\n",
            "E04 loss[535.74]\n",
            "E05 loss[449.18]\n",
            "E06 loss[391.47]\n",
            "E07 loss[345.64]\n",
            "E08 loss[310.24]\n",
            "E09 loss[281.49]\n",
            "E10 loss[257.77]\n",
            "E11 loss[237.81]\n",
            "E12 loss[221.42]\n",
            "E13 loss[206.91]\n",
            "E14 loss[194.96]\n",
            "E15 loss[183.82]\n",
            "E16 loss[174.36]\n",
            "E17 loss[166.25]\n",
            "E18 loss[158.70]\n",
            "E19 loss[152.12]\n",
            "E20 loss[147.64]\n",
            "E21 loss[141.61]\n",
            "E22 loss[136.70]\n",
            "E23 loss[131.92]\n",
            "E24 loss[127.94]\n",
            "E25 loss[124.39]\n",
            "E26 loss[120.38]\n",
            "E27 loss[116.84]\n",
            "E28 loss[113.78]\n",
            "E29 loss[110.76]\n",
            "E30 loss[108.38]\n",
            "E31 loss[105.77]\n",
            "E32 loss[103.55]\n",
            "E33 loss[101.09]\n",
            "E34 loss[ 99.11]\n",
            "E35 loss[ 97.14]\n",
            "E36 loss[ 95.14]\n",
            "E37 loss[ 93.08]\n",
            "E38 loss[ 91.16]\n",
            "E39 loss[ 89.27]\n",
            "E40 loss[ 87.63]\n",
            "E41 loss[ 86.53]\n",
            "E42 loss[ 85.04]\n",
            "E43 loss[ 83.85]\n",
            "E44 loss[ 82.65]\n",
            "E45 loss[ 81.38]\n",
            "E46 loss[ 80.17]\n",
            "E47 loss[ 78.86]\n",
            "E48 loss[ 77.75]\n",
            "E49 loss[ 76.80]\n",
            "E50 loss[ 76.00]\n",
            "E51 loss[ 75.04]\n",
            "E52 loss[ 74.41]\n",
            "E53 loss[ 73.61]\n",
            "E54 loss[ 72.94]\n",
            "E55 loss[ 72.19]\n",
            "E56 loss[ 71.29]\n",
            "E57 loss[ 70.85]\n",
            "E58 loss[ 69.94]\n",
            "E59 loss[ 69.15]\n",
            "E60 loss[ 68.68]\n",
            "E61 loss[ 67.91]\n",
            "E62 loss[ 67.21]\n",
            "E63 loss[ 66.51]\n",
            "E64 loss[ 65.82]\n",
            "E65 loss[ 65.08]\n",
            "E66 loss[ 64.38]\n",
            "E67 loss[ 63.75]\n",
            "E68 loss[ 63.08]\n",
            "E69 loss[ 62.64]\n",
            "E70 loss[ 62.18]\n",
            "E71 loss[ 61.65]\n",
            "E72 loss[ 61.29]\n",
            "E73 loss[ 60.91]\n",
            "E74 loss[ 60.36]\n",
            "E75 loss[ 59.88]\n",
            "E76 loss[ 59.43]\n",
            "E77 loss[ 58.94]\n",
            "E78 loss[ 58.44]\n",
            "E79 loss[ 57.98]\n",
            "E80 loss[ 57.51]\n",
            "E81 loss[ 57.16]\n",
            "E82 loss[ 56.70]\n",
            "E83 loss[ 56.23]\n",
            "E84 loss[ 55.84]\n",
            "E85 loss[ 55.46]\n",
            "E86 loss[ 55.07]\n",
            "E87 loss[ 54.70]\n",
            "E88 loss[ 54.27]\n",
            "E89 loss[ 53.99]\n",
            "E90 loss[ 53.69]\n",
            "E91 loss[ 53.35]\n",
            "E92 loss[ 53.00]\n",
            "E93 loss[ 52.68]\n",
            "E94 loss[ 52.37]\n",
            "E95 loss[ 52.02]\n",
            "E96 loss[ 51.69]\n",
            "E97 loss[ 51.38]\n",
            "E98 loss[ 51.04]\n",
            "E99 loss[ 50.73]\n",
            "E100 loss[ 50.67]\n",
            "E101 loss[ 50.41]\n",
            "E102 loss[ 50.19]\n",
            "E103 loss[ 49.93]\n",
            "E104 loss[ 49.63]\n",
            "E105 loss[ 49.34]\n",
            "E106 loss[ 49.23]\n",
            "E107 loss[ 48.96]\n",
            "E108 loss[ 48.79]\n",
            "E109 loss[ 48.58]\n",
            "E110 loss[ 48.30]\n",
            "E111 loss[ 48.07]\n",
            "E112 loss[ 47.86]\n",
            "E113 loss[ 47.65]\n",
            "E114 loss[ 47.47]\n",
            "E115 loss[ 47.26]\n",
            "E116 loss[ 47.02]\n",
            "E117 loss[ 46.91]\n",
            "E118 loss[ 46.68]\n",
            "E119 loss[ 46.47]\n",
            "E120 loss[ 46.38]\n",
            "E121 loss[ 46.23]\n",
            "E122 loss[ 46.06]\n",
            "E123 loss[ 45.86]\n",
            "E124 loss[ 45.68]\n",
            "E125 loss[ 45.49]\n",
            "E126 loss[ 45.40]\n",
            "E127 loss[ 45.19]\n",
            "E128 loss[ 44.97]\n",
            "E129 loss[ 44.85]\n",
            "E130 loss[ 44.67]\n",
            "E131 loss[ 44.49]\n",
            "E132 loss[ 44.46]\n",
            "E133 loss[ 44.30]\n",
            "E134 loss[ 44.17]\n",
            "E135 loss[ 43.98]\n",
            "E136 loss[ 43.84]\n",
            "E137 loss[ 43.85]\n",
            "E138 loss[ 43.69]\n",
            "E139 loss[ 43.50]\n",
            "E140 loss[ 43.38]\n",
            "E141 loss[ 43.26]\n",
            "E142 loss[ 43.12]\n",
            "E143 loss[ 43.00]\n",
            "E144 loss[ 42.89]\n",
            "E145 loss[ 42.70]\n",
            "E146 loss[ 42.58]\n",
            "E147 loss[ 42.72]\n",
            "E148 loss[ 42.61]\n",
            "E149 loss[ 42.48]\n",
            "E150 loss[ 42.42]\n",
            "E151 loss[ 42.25]\n",
            "E152 loss[ 42.14]\n",
            "E153 loss[ 41.97]\n",
            "E154 loss[ 41.84]\n",
            "E155 loss[ 41.74]\n",
            "E156 loss[ 41.70]\n",
            "E157 loss[ 41.63]\n",
            "E158 loss[ 41.52]\n",
            "E159 loss[ 41.38]\n",
            "E160 loss[ 41.29]\n",
            "E161 loss[ 41.16]\n",
            "E162 loss[ 41.06]\n",
            "E163 loss[ 40.99]\n",
            "E164 loss[ 40.94]\n",
            "E165 loss[ 40.80]\n",
            "E166 loss[ 40.70]\n",
            "E167 loss[ 40.58]\n",
            "E168 loss[ 40.52]\n",
            "E169 loss[ 40.40]\n",
            "E170 loss[ 40.33]\n",
            "E171 loss[ 40.27]\n",
            "E172 loss[ 40.16]\n",
            "E173 loss[ 40.03]\n",
            "E174 loss[ 39.97]\n",
            "E175 loss[ 39.92]\n",
            "E176 loss[ 39.86]\n",
            "E177 loss[ 39.82]\n",
            "E178 loss[ 39.69]\n",
            "E179 loss[ 39.56]\n",
            "E180 loss[ 39.51]\n",
            "E181 loss[ 39.56]\n",
            "E182 loss[ 39.43]\n",
            "E183 loss[ 39.39]\n",
            "E184 loss[ 39.30]\n",
            "E185 loss[ 39.20]\n",
            "E186 loss[ 39.13]\n",
            "E187 loss[ 39.11]\n",
            "E188 loss[ 39.04]\n",
            "E189 loss[ 38.96]\n",
            "E190 loss[ 38.87]\n",
            "E191 loss[ 38.76]\n",
            "E192 loss[ 38.72]\n",
            "E193 loss[ 38.65]\n",
            "E194 loss[ 38.63]\n",
            "E195 loss[ 38.53]\n",
            "E196 loss[ 38.42]\n",
            "E197 loss[ 38.43]\n",
            "E198 loss[ 38.34]\n",
            "E199 loss[ 38.33]\n",
            "E200 loss[ 38.24]\n",
            "E201 loss[ 38.18]\n",
            "E202 loss[ 38.08]\n",
            "E203 loss[ 38.00]\n",
            "E204 loss[ 37.94]\n",
            "E205 loss[ 37.98]\n",
            "E206 loss[ 37.91]\n",
            "E207 loss[ 37.85]\n",
            "E208 loss[ 37.82]\n",
            "E209 loss[ 37.77]\n",
            "E210 loss[ 37.69]\n",
            "E211 loss[ 37.59]\n",
            "E212 loss[ 37.54]\n",
            "E213 loss[ 37.46]\n",
            "E214 loss[ 37.36]\n",
            "E215 loss[ 37.26]\n",
            "E216 loss[ 37.25]\n",
            "E217 loss[ 37.18]\n",
            "E218 loss[ 37.10]\n",
            "E219 loss[ 37.03]\n",
            "E220 loss[ 36.96]\n",
            "E221 loss[ 36.88]\n",
            "E222 loss[ 36.79]\n",
            "E223 loss[ 36.74]\n",
            "E224 loss[ 36.68]\n",
            "E225 loss[ 36.65]\n",
            "E226 loss[ 36.69]\n",
            "E227 loss[ 36.67]\n",
            "E228 loss[ 36.58]\n",
            "E229 loss[ 36.52]\n",
            "E230 loss[ 36.46]\n",
            "E231 loss[ 36.43]\n",
            "E232 loss[ 36.34]\n",
            "E233 loss[ 36.29]\n",
            "E234 loss[ 36.23]\n",
            "E235 loss[ 36.16]\n",
            "E236 loss[ 36.09]\n",
            "E237 loss[ 36.05]\n",
            "E238 loss[ 35.98]\n",
            "E239 loss[ 35.91]\n",
            "E240 loss[ 35.86]\n",
            "E241 loss[ 35.81]\n",
            "E242 loss[ 35.75]\n",
            "E243 loss[ 35.74]\n",
            "E244 loss[ 35.70]\n",
            "E245 loss[ 35.67]\n",
            "E246 loss[ 35.80]\n",
            "E247 loss[ 35.84]\n",
            "E248 loss[ 35.78]\n",
            "E249 loss[ 35.73]\n",
            "E250 loss[ 35.66]\n",
            "E251 loss[ 35.73]\n",
            "E252 loss[ 35.65]\n",
            "E253 loss[ 35.60]\n",
            "E254 loss[ 35.55]\n",
            "E255 loss[ 35.51]\n",
            "E256 loss[ 35.48]\n",
            "E257 loss[ 35.45]\n",
            "E258 loss[ 35.39]\n",
            "E259 loss[ 35.32]\n",
            "E260 loss[ 35.29]\n",
            "E261 loss[ 35.24]\n",
            "E262 loss[ 35.21]\n",
            "E263 loss[ 35.16]\n",
            "E264 loss[ 35.11]\n",
            "E265 loss[ 35.07]\n",
            "E266 loss[ 35.02]\n",
            "E267 loss[ 34.99]\n",
            "E268 loss[ 34.95]\n",
            "E269 loss[ 35.04]\n",
            "E270 loss[ 34.99]\n",
            "E271 loss[ 34.92]\n",
            "E272 loss[ 34.88]\n",
            "E273 loss[ 34.97]\n",
            "E274 loss[ 35.03]\n",
            "E275 loss[ 34.99]\n",
            "E276 loss[ 34.97]\n",
            "E277 loss[ 34.90]\n",
            "E278 loss[ 34.87]\n",
            "E279 loss[ 34.81]\n",
            "E280 loss[ 34.74]\n",
            "E281 loss[ 34.71]\n",
            "E282 loss[ 34.65]\n",
            "E283 loss[ 34.63]\n",
            "E284 loss[ 34.62]\n",
            "E285 loss[ 34.61]\n",
            "E286 loss[ 34.56]\n",
            "E287 loss[ 34.56]\n",
            "E288 loss[ 34.55]\n",
            "E289 loss[ 34.65]\n",
            "E290 loss[ 34.63]\n",
            "E291 loss[ 34.65]\n",
            "E292 loss[ 34.60]\n",
            "E293 loss[ 34.59]\n",
            "E294 loss[ 34.53]\n",
            "E295 loss[ 34.47]\n",
            "E296 loss[ 34.44]\n",
            "E297 loss[ 34.41]\n",
            "E298 loss[ 34.43]\n",
            "E299 loss[ 34.39]\n",
            "E300 loss[ 34.39]\n",
            "E301 loss[ 34.34]\n",
            "E302 loss[ 34.31]\n",
            "E303 loss[ 34.28]\n",
            "E304 loss[ 34.25]\n",
            "E305 loss[ 34.22]\n",
            "E306 loss[ 34.22]\n",
            "E307 loss[ 34.23]\n",
            "E308 loss[ 34.21]\n",
            "E309 loss[ 34.26]\n",
            "E310 loss[ 34.30]\n",
            "E311 loss[ 34.31]\n",
            "E312 loss[ 34.30]\n",
            "E313 loss[ 34.26]\n",
            "E314 loss[ 34.25]\n",
            "E315 loss[ 34.19]\n",
            "E316 loss[ 34.21]\n",
            "E317 loss[ 34.25]\n",
            "E318 loss[ 34.25]\n",
            "E319 loss[ 34.24]\n",
            "E320 loss[ 34.25]\n",
            "E321 loss[ 34.20]\n",
            "E322 loss[ 34.14]\n",
            "E323 loss[ 34.11]\n",
            "E324 loss[ 34.07]\n",
            "E325 loss[ 34.02]\n",
            "E326 loss[ 33.99]\n",
            "E327 loss[ 33.94]\n",
            "E328 loss[ 33.90]\n",
            "E329 loss[ 33.87]\n",
            "E330 loss[ 33.87]\n",
            "E331 loss[ 33.84]\n",
            "E332 loss[ 33.79]\n",
            "E333 loss[ 33.74]\n",
            "E334 loss[ 33.72]\n",
            "E335 loss[ 33.68]\n",
            "E336 loss[ 33.64]\n",
            "E337 loss[ 33.61]\n",
            "E338 loss[ 33.62]\n",
            "E339 loss[ 33.59]\n",
            "E340 loss[ 33.55]\n",
            "E341 loss[ 33.49]\n",
            "E342 loss[ 33.45]\n",
            "E343 loss[ 33.40]\n",
            "E344 loss[ 33.40]\n",
            "E345 loss[ 33.37]\n",
            "E346 loss[ 33.34]\n",
            "E347 loss[ 33.29]\n",
            "E348 loss[ 33.26]\n",
            "E349 loss[ 33.22]\n",
            "E350 loss[ 33.20]\n",
            "E351 loss[ 33.19]\n",
            "E352 loss[ 33.20]\n",
            "E353 loss[ 33.17]\n",
            "E354 loss[ 33.14]\n",
            "E355 loss[ 33.13]\n",
            "E356 loss[ 33.11]\n",
            "E357 loss[ 33.13]\n",
            "E358 loss[ 33.09]\n",
            "E359 loss[ 33.05]\n",
            "E360 loss[ 33.03]\n",
            "E361 loss[ 33.01]\n",
            "E362 loss[ 32.98]\n",
            "E363 loss[ 32.94]\n",
            "E364 loss[ 32.91]\n",
            "E365 loss[ 32.87]\n",
            "E366 loss[ 32.83]\n",
            "E367 loss[ 32.80]\n",
            "E368 loss[ 32.78]\n",
            "E369 loss[ 32.80]\n",
            "E370 loss[ 32.83]\n",
            "E371 loss[ 32.81]\n",
            "E372 loss[ 32.76]\n",
            "E373 loss[ 32.72]\n",
            "E374 loss[ 32.68]\n",
            "E375 loss[ 32.65]\n",
            "E376 loss[ 32.61]\n",
            "E377 loss[ 32.59]\n",
            "E378 loss[ 32.56]\n",
            "E379 loss[ 32.53]\n",
            "E380 loss[ 32.57]\n",
            "E381 loss[ 32.64]\n",
            "E382 loss[ 32.65]\n",
            "E383 loss[ 32.62]\n",
            "E384 loss[ 32.64]\n",
            "E385 loss[ 32.62]\n",
            "E386 loss[ 32.61]\n",
            "E387 loss[ 32.58]\n",
            "E388 loss[ 32.56]\n",
            "E389 loss[ 32.54]\n",
            "E390 loss[ 32.51]\n",
            "E391 loss[ 32.51]\n",
            "E392 loss[ 32.49]\n",
            "E393 loss[ 32.47]\n",
            "E394 loss[ 32.43]\n",
            "E395 loss[ 32.41]\n",
            "E396 loss[ 32.41]\n",
            "E397 loss[ 32.41]\n",
            "E398 loss[ 32.37]\n",
            "E399 loss[ 32.36]\n",
            "E400 loss[ 32.33]\n",
            "E401 loss[ 32.31]\n",
            "E402 loss[ 32.36]\n",
            "E403 loss[ 32.35]\n",
            "E404 loss[ 32.38]\n",
            "E405 loss[ 32.38]\n",
            "E406 loss[ 32.34]\n",
            "E407 loss[ 32.31]\n",
            "E408 loss[ 32.29]\n",
            "E409 loss[ 32.27]\n",
            "E410 loss[ 32.26]\n",
            "E411 loss[ 32.24]\n",
            "E412 loss[ 32.24]\n",
            "E413 loss[ 32.21]\n",
            "E414 loss[ 32.19]\n",
            "E415 loss[ 32.17]\n",
            "E416 loss[ 32.16]\n",
            "E417 loss[ 32.18]\n",
            "E418 loss[ 32.19]\n",
            "E419 loss[ 32.16]\n",
            "E420 loss[ 32.14]\n",
            "E421 loss[ 32.11]\n",
            "E422 loss[ 32.07]\n",
            "E423 loss[ 32.04]\n",
            "E424 loss[ 32.04]\n",
            "E425 loss[ 32.08]\n",
            "E426 loss[ 32.06]\n",
            "E427 loss[ 32.03]\n",
            "E428 loss[ 32.00]\n",
            "E429 loss[ 31.98]\n",
            "E430 loss[ 31.96]\n",
            "E431 loss[ 31.93]\n",
            "E432 loss[ 31.93]\n",
            "E433 loss[ 31.97]\n",
            "E434 loss[ 31.93]\n",
            "E435 loss[ 31.91]\n",
            "E436 loss[ 31.88]\n",
            "E437 loss[ 31.86]\n",
            "E438 loss[ 31.84]\n",
            "E439 loss[ 31.83]\n",
            "E440 loss[ 31.81]\n",
            "E441 loss[ 31.77]\n",
            "E442 loss[ 31.74]\n",
            "E443 loss[ 31.71]\n",
            "E444 loss[ 31.69]\n",
            "E445 loss[ 31.66]\n",
            "E446 loss[ 31.65]\n",
            "E447 loss[ 31.63]\n",
            "E448 loss[ 31.62]\n",
            "E449 loss[ 31.60]\n",
            "E450 loss[ 31.60]\n",
            "E451 loss[ 31.59]\n",
            "E452 loss[ 31.57]\n",
            "E453 loss[ 31.54]\n",
            "E454 loss[ 31.55]\n",
            "E455 loss[ 31.52]\n",
            "E456 loss[ 31.49]\n",
            "E457 loss[ 31.46]\n",
            "E458 loss[ 31.45]\n",
            "E459 loss[ 31.44]\n",
            "E460 loss[ 31.41]\n",
            "E461 loss[ 31.38]\n",
            "E462 loss[ 31.36]\n",
            "E463 loss[ 31.33]\n",
            "E464 loss[ 31.35]\n",
            "E465 loss[ 31.33]\n",
            "E466 loss[ 31.30]\n",
            "E467 loss[ 31.28]\n",
            "E468 loss[ 31.28]\n",
            "E469 loss[ 31.29]\n",
            "E470 loss[ 31.30]\n",
            "E471 loss[ 31.30]\n",
            "E472 loss[ 31.26]\n",
            "E473 loss[ 31.24]\n",
            "E474 loss[ 31.23]\n",
            "E475 loss[ 31.26]\n",
            "E476 loss[ 31.24]\n",
            "E477 loss[ 31.21]\n",
            "E478 loss[ 31.18]\n",
            "E479 loss[ 31.17]\n",
            "E480 loss[ 31.13]\n",
            "E481 loss[ 31.11]\n",
            "E482 loss[ 31.10]\n",
            "E483 loss[ 31.11]\n",
            "E484 loss[ 31.11]\n",
            "E485 loss[ 31.08]\n",
            "E486 loss[ 31.05]\n",
            "E487 loss[ 31.04]\n",
            "E488 loss[ 31.03]\n",
            "E489 loss[ 31.01]\n",
            "E490 loss[ 31.02]\n",
            "E491 loss[ 31.01]\n",
            "E492 loss[ 31.00]\n",
            "E493 loss[ 30.97]\n",
            "E494 loss[ 30.95]\n",
            "E495 loss[ 30.95]\n",
            "E496 loss[ 30.95]\n",
            "E497 loss[ 30.93]\n",
            "E498 loss[ 30.90]\n",
            "E499 loss[ 30.88]\n"
          ]
        }
      ]
    },
    {
      "cell_type": "markdown",
      "source": [
        "# Graficando la pérdida"
      ],
      "metadata": {
        "id": "RNShQ-tGuykH"
      }
    },
    {
      "cell_type": "code",
      "source": [
        "plt.plot(loss1)\n",
        "plt.ylim([0,500])\n",
        "plt.grid()\n",
        "plt.ylabel('Pérdida')\n",
        "plt.xlabel('Épocas')\n",
        "plt.show()"
      ],
      "metadata": {
        "id": "Oh7IMe8nuDtr",
        "colab": {
          "base_uri": "https://localhost:8080/",
          "height": 285
        },
        "outputId": "290152f4-19b9-46a4-a497-f36e13b3381b"
      },
      "execution_count": null,
      "outputs": [
        {
          "output_type": "display_data",
          "data": {
            "text/plain": [
              "<Figure size 432x288 with 1 Axes>"
            ],
            "image/png": "[encoded data removed]"
          },
          "metadata": {
            "needs_background": "light"
          }
        }
      ]
    },
    {
      "cell_type": "markdown",
      "source": [
        "# Realizando la inferencia"
      ],
      "metadata": {
        "id": "wBRNMCZX3bTu"
      }
    },
    {
      "cell_type": "code",
      "source": [
        "# Función para realizar predicciones\n",
        "def predict(model,input):\n",
        "  model.eval()\n",
        "  with torch.no_grad():\n",
        "    predicted = model(input)\n",
        "\n",
        "    return predicted\n"
      ],
      "metadata": {
        "id": "HIB_4CHEsdL5"
      },
      "execution_count": null,
      "outputs": []
    },
    {
      "cell_type": "code",
      "source": [
        "input = torch.tensor([3.0,12.0])  # Datos de prueba\n",
        "pred = predict(model, input)\n",
        "print('La calificación predicha es:', pred.numpy())"
      ],
      "metadata": {
        "colab": {
          "base_uri": "https://localhost:8080/"
        },
        "id": "YrUZ7XB80jJa",
        "outputId": "cc9df0bf-7a40-4473-deb9-2e59f2d1c015"
      },
      "execution_count": null,
      "outputs": [
        {
          "output_type": "stream",
          "name": "stdout",
          "text": [
            "La calificación predicha es: [6.9581137]\n"
          ]
        }
      ]
    },
    {
      "cell_type": "markdown",
      "source": [
        "# Discusión acerca del modelo\n",
        "\n",
        "Dado que se solicito un modelo de regresión lineal, los hiperparámetros que se modificaron fueron la tasa de aprendizaje y el número de épocas de entrenamiento para el modelo.\n",
        "\n",
        "En términos de la tasa de aprendizaje, mediante métodos eurísticos se llegó al valor de $0.0035$, debido a que se observó que era el valor más alto que permitía que el error continuara disminuyendo.\n",
        "\n",
        "Aunado a lo anterior, dado que ya se contaba con una tasa de aprendizaje definida, lo siguinte era contemplar un número adecuado de épocas de entrenamiento. Por lo tanto, a juicio del diseñador se concluyo que $500$ épocas eran adecuadas. Esto debido a que eran las suficientes para que el error disminuyera a un valor considerable y, además, en caso de ampliar el número de épocas, la disminución del error era casi ínfima. "
      ],
      "metadata": {
        "id": "RylBkVQ827bk"
      }
    }
  ]
}